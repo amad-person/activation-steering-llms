{
 "cells": [
  {
   "cell_type": "code",
   "execution_count": 3,
   "id": "initial_id",
   "metadata": {
    "collapsed": true,
    "ExecuteTime": {
     "end_time": "2023-11-07T04:06:37.869184Z",
     "start_time": "2023-11-07T04:06:25.801905Z"
    }
   },
   "outputs": [],
   "source": [
    "%%capture\n",
    "!pip install torch tqdm matplotlib scikit-learn"
   ]
  },
  {
   "cell_type": "code",
   "execution_count": 5,
   "outputs": [],
   "source": [
    "import os\n",
    "import torch\n",
    "from matplotlib import pyplot as plt\n",
    "from sklearn.manifold import TSNE"
   ],
   "metadata": {
    "collapsed": false,
    "ExecuteTime": {
     "end_time": "2023-11-07T04:07:09.782993Z",
     "start_time": "2023-11-07T04:07:09.040931Z"
    }
   },
   "id": "8945c51eb7747e86"
  },
  {
   "cell_type": "code",
   "execution_count": 6,
   "outputs": [],
   "source": [
    "def save_activation_projection_tsne(\n",
    "    model1_activations1,\n",
    "    model1_activations2,\n",
    "    model2_activations1,\n",
    "    model2_activations2,\n",
    "    fname,\n",
    "    title,\n",
    "    model1_label1=\"Model 1 Positive Examples\",\n",
    "    model1_label2=\"Model 1 Negative Examples\",\n",
    "    model2_label1=\"Model 2 Positive Examples\",\n",
    "    model2_label2=\"Model 2 Negative Examples\",\n",
    "):\n",
    "    \"\"\"\n",
    "    model1_activations1: n_samples x vector dim tensor\n",
    "    model1_activations2: n_samples x vector dim tensor\n",
    "    model2_activations1: n_samples x vector dim tensor\n",
    "    model2_activations2: n_samples x vector dim tensor\n",
    "\n",
    "    projects to n_samples x 2 dim tensor using t-SNE (over the full dataset of both activations 1 and 2) and saves visualization.\n",
    "    Colors projected activations1 as blue and projected activations2 as red for both models.\n",
    "    \"\"\"\n",
    "    plt.clf()\n",
    "    activations = torch.cat([model1_activations1, model1_activations2, model2_activations1, model2_activations2], dim=0)\n",
    "    activations_np = activations.cpu().numpy()\n",
    "\n",
    "    # t-SNE transformation\n",
    "    tsne = TSNE(n_components=2)\n",
    "    projected_activations = tsne.fit_transform(activations_np)\n",
    "\n",
    "    # Splitting back into activations1 and activations2 for both models\n",
    "    indices = [\n",
    "        (0, model1_activations1.shape[0]),\n",
    "        (model1_activations1.shape[0], model1_activations1.shape[0] + model1_activations2.shape[0]),\n",
    "        (model1_activations1.shape[0] + model1_activations2.shape[0], model1_activations1.shape[0] + model1_activations2.shape[0] + model2_activations1.shape[0]),\n",
    "        (model1_activations1.shape[0] + model1_activations2.shape[0] + model2_activations1.shape[0], None)\n",
    "    ]\n",
    "    model1_activations1_projected = projected_activations[indices[0][0]: indices[0][1]]\n",
    "    model1_activations2_projected = projected_activations[indices[1][0]: indices[1][1]]\n",
    "    model2_activations1_projected = projected_activations[indices[2][0]: indices[2][1]]\n",
    "    model2_activations2_projected = projected_activations[indices[3][0]: indices[3][1]]\n",
    "\n",
    "    # Visualization for model 1\n",
    "    for x, y in model1_activations1_projected:\n",
    "        plt.scatter(x, y, color=\"blue\", marker=\"o\", alpha=0.4)\n",
    "\n",
    "    for x, y in model1_activations2_projected:\n",
    "        plt.scatter(x, y, color=\"red\", marker=\"o\", alpha=0.4)\n",
    "        \n",
    "    # Visualization for model 2\n",
    "    for x, y in model2_activations1_projected:\n",
    "        plt.scatter(x, y, color=\"blue\", marker=\"s\", alpha=0.4)\n",
    "\n",
    "    for x, y in model2_activations2_projected:\n",
    "        plt.scatter(x, y, color=\"red\", marker=\"s\", alpha=0.4)\n",
    "\n",
    "    # Adding the legend\n",
    "    model1_scatter1 = plt.Line2D(\n",
    "        [0],\n",
    "        [0],\n",
    "        marker=\"o\",\n",
    "        color=\"w\",\n",
    "        markerfacecolor=\"blue\",\n",
    "        markersize=10,\n",
    "        label=model1_label1,\n",
    "    )\n",
    "    model1_scatter2 = plt.Line2D(\n",
    "        [0],\n",
    "        [0],\n",
    "        marker=\"o\",\n",
    "        color=\"w\",\n",
    "        markerfacecolor=\"red\",\n",
    "        markersize=10,\n",
    "        label=model1_label2,\n",
    "    )\n",
    "    \n",
    "    model2_scatter1 = plt.Line2D(\n",
    "        [0],\n",
    "        [0],\n",
    "        marker=\"s\",\n",
    "        color=\"w\",\n",
    "        markerfacecolor=\"blue\",\n",
    "        markersize=10,\n",
    "        label=model2_label1,\n",
    "    )\n",
    "    model2_scatter2 = plt.Line2D(\n",
    "        [0],\n",
    "        [0],\n",
    "        marker=\"s\",\n",
    "        color=\"w\",\n",
    "        markerfacecolor=\"red\",\n",
    "        markersize=10,\n",
    "        label=model2_label2,\n",
    "    )\n",
    "\n",
    "    plt.legend(handles=[model1_scatter1, model1_scatter2, model2_scatter1, model2_scatter2])\n",
    "    plt.title(title)\n",
    "    plt.xlabel(\"t-SNE 1\")\n",
    "    plt.ylabel(\"t-SNE 2\")\n",
    "    plt.savefig(fname)"
   ],
   "metadata": {
    "collapsed": false,
    "ExecuteTime": {
     "end_time": "2023-11-07T04:07:11.648436Z",
     "start_time": "2023-11-07T04:07:11.640773Z"
    }
   },
   "id": "41e400aa645ef57a"
  },
  {
   "cell_type": "code",
   "execution_count": null,
   "outputs": [],
   "source": [
    "def plot_all_activations(layers):\n",
    "    if not os.path.exists(\"clustering\"):\n",
    "        os.mkdir(\"clustering\")\n",
    "        \n",
    "    first_dirpath = \"refusal_data_2splits_0_exp_data\"\n",
    "    second_dirpath = \"refusal_data_2splits_1_exp_data\"\n",
    "    for layer in layers:\n",
    "        first_pos = torch.load(f\"{first_dirpath}/positive_layer_{layer}.pt\")\n",
    "        first_neg = torch.load(f\"{first_dirpath}/negative_layer_{layer}.pt\")\n",
    "        second_pos = torch.load(f\"{second_dirpath}/positive_layer_{layer}.pt\")\n",
    "        second_neg = torch.load(f\"{second_dirpath}/negative_layer_{layer}.pt\")\n",
    "        save_activation_projection_tsne(\n",
    "            first_pos,\n",
    "            first_neg,\n",
    "            second_pos,\n",
    "            second_neg,\n",
    "            f\"clustering/activations_layer_{layer}.png\",\n",
    "            f\"t-SNE projected activations layer {layer}\",\n",
    "            model1_label1=\"Split 1 Positive Examples\",\n",
    "            model1_label2=\"Split 1 Negative Examples\",\n",
    "            model2_label1=\"Split 2 Positive Examples\",\n",
    "            model2_label2=\"Split 2 Negative Examples\",\n",
    "        )"
   ],
   "metadata": {
    "collapsed": false
   },
   "id": "d4bcdc371d245397"
  }
 ],
 "metadata": {
  "kernelspec": {
   "display_name": "Python 3",
   "language": "python",
   "name": "python3"
  },
  "language_info": {
   "codemirror_mode": {
    "name": "ipython",
    "version": 2
   },
   "file_extension": ".py",
   "mimetype": "text/x-python",
   "name": "python",
   "nbconvert_exporter": "python",
   "pygments_lexer": "ipython2",
   "version": "2.7.6"
  }
 },
 "nbformat": 4,
 "nbformat_minor": 5
}
