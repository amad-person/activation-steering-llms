{
 "cells": [
  {
   "cell_type": "code",
   "execution_count": 3,
   "id": "initial_id",
   "metadata": {
    "collapsed": true,
    "ExecuteTime": {
     "end_time": "2023-11-07T04:06:37.869184Z",
     "start_time": "2023-11-07T04:06:25.801905Z"
    }
   },
   "outputs": [],
   "source": [
    "%%capture\n",
    "!pip install torch tqdm matplotlib scikit-learn"
   ]
  },
  {
   "cell_type": "code",
   "execution_count": 5,
   "outputs": [],
   "source": [
    "import os\n",
    "import torch\n",
    "from matplotlib import pyplot as plt\n",
    "from sklearn.manifold import TSNE"
   ],
   "metadata": {
    "collapsed": false,
    "ExecuteTime": {
     "end_time": "2023-11-07T04:07:09.782993Z",
     "start_time": "2023-11-07T04:07:09.040931Z"
    }
   },
   "id": "8945c51eb7747e86"
  },
  {
   "cell_type": "markdown",
   "source": [
    "## Plotting Code"
   ],
   "metadata": {
    "collapsed": false
   },
   "id": "d18ee59c478ad7c4"
  },
  {
   "cell_type": "markdown",
   "source": [
    "### Clustering using t-SNE"
   ],
   "metadata": {
    "collapsed": false
   },
   "id": "b57268e1ae676fd1"
  },
  {
   "cell_type": "code",
   "execution_count": 6,
   "outputs": [],
   "source": [
    "def save_activation_projection_tsne(\n",
    "    split1_activations1,\n",
    "    split1_activations2,\n",
    "    split2_activations1,\n",
    "    split2_activations2,\n",
    "    fname,\n",
    "    title,\n",
    "    split1_label1=\"Split 1 Positive Examples\",\n",
    "    split1_label2=\"Split 1 Negative Examples\",\n",
    "    split2_label1=\"Split 2 Positive Examples\",\n",
    "    split2_label2=\"Split 2 Negative Examples\",\n",
    "):\n",
    "    \"\"\"\n",
    "    split1_activations1: n_samples x vector dim tensor\n",
    "    split1_activations2: n_samples x vector dim tensor\n",
    "    split2_activations1: n_samples x vector dim tensor\n",
    "    split2_activations2: n_samples x vector dim tensor\n",
    "\n",
    "    projects to n_samples x 2 dim tensor using t-SNE (over the full dataset of both activations 1 and 2) and saves visualization.\n",
    "    Colors projected activations1 as blue and projected activations2 as red for the first split.\n",
    "    Colors projected activations1 as green and projected activations2 as orange for the second split.\n",
    "    \"\"\"\n",
    "    plt.clf()\n",
    "    activations = torch.cat([split1_activations1, split1_activations2, split2_activations1, split2_activations2], dim=0)\n",
    "    activations_np = activations.cpu().numpy()\n",
    "\n",
    "    # t-SNE transformation\n",
    "    tsne = TSNE(n_components=2)\n",
    "    projected_activations = tsne.fit_transform(activations_np)\n",
    "\n",
    "    # Getting back activations1 and activations2 for both splits\n",
    "    indices = [\n",
    "        (0, split1_activations1.shape[0]),\n",
    "        (split1_activations1.shape[0], split1_activations1.shape[0] + split1_activations2.shape[0]),\n",
    "        (split1_activations1.shape[0] + split1_activations2.shape[0], split1_activations1.shape[0] + split1_activations2.shape[0] + split2_activations1.shape[0]),\n",
    "        (split1_activations1.shape[0] + split1_activations2.shape[0] + split2_activations1.shape[0], None)\n",
    "    ]\n",
    "    split1_activations1_projected = projected_activations[indices[0][0]: indices[0][1]]\n",
    "    split1_activations2_projected = projected_activations[indices[1][0]: indices[1][1]]\n",
    "    split2_activations1_projected = projected_activations[indices[2][0]: indices[2][1]]\n",
    "    split2_activations2_projected = projected_activations[indices[3][0]: indices[3][1]]\n",
    "\n",
    "    # Visualization for split 1\n",
    "    for x, y in split1_activations1_projected:\n",
    "        plt.scatter(x, y, color=\"blue\", marker=\"o\", alpha=0.4)\n",
    "\n",
    "    for x, y in split1_activations2_projected:\n",
    "        plt.scatter(x, y, color=\"red\", marker=\"o\", alpha=0.4)\n",
    "        \n",
    "    # Visualization for split 2\n",
    "    for x, y in split2_activations1_projected:\n",
    "        plt.scatter(x, y, color=\"green\", marker=\"s\", alpha=0.4)\n",
    "\n",
    "    for x, y in split2_activations2_projected:\n",
    "        plt.scatter(x, y, color=\"orange\", marker=\"s\", alpha=0.4)\n",
    "\n",
    "    # Adding the legend\n",
    "    split1_scatter1 = plt.Line2D(\n",
    "        [0],\n",
    "        [0],\n",
    "        marker=\"o\",\n",
    "        color=\"w\",\n",
    "        markerfacecolor=\"blue\",\n",
    "        markersize=10,\n",
    "        label=split1_label1,\n",
    "    )\n",
    "    split1_scatter2 = plt.Line2D(\n",
    "        [0],\n",
    "        [0],\n",
    "        marker=\"o\",\n",
    "        color=\"w\",\n",
    "        markerfacecolor=\"red\",\n",
    "        markersize=10,\n",
    "        label=split1_label2,\n",
    "    )\n",
    "    \n",
    "    split2_scatter1 = plt.Line2D(\n",
    "        [0],\n",
    "        [0],\n",
    "        marker=\"s\",\n",
    "        color=\"w\",\n",
    "        markerfacecolor=\"green\",\n",
    "        markersize=10,\n",
    "        label=split2_label1,\n",
    "    )\n",
    "    split2_scatter2 = plt.Line2D(\n",
    "        [0],\n",
    "        [0],\n",
    "        marker=\"s\",\n",
    "        color=\"w\",\n",
    "        markerfacecolor=\"orange\",\n",
    "        markersize=10,\n",
    "        label=split2_label2,\n",
    "    )\n",
    "\n",
    "    plt.legend(handles=[split1_scatter1, split1_scatter2, split2_scatter1, split2_scatter2])\n",
    "    plt.title(title)\n",
    "    plt.xlabel(\"t-SNE 1\")\n",
    "    plt.ylabel(\"t-SNE 2\")\n",
    "    plt.savefig(fname)"
   ],
   "metadata": {
    "collapsed": false,
    "ExecuteTime": {
     "end_time": "2023-11-07T04:07:11.648436Z",
     "start_time": "2023-11-07T04:07:11.640773Z"
    }
   },
   "id": "41e400aa645ef57a"
  },
  {
   "cell_type": "code",
   "execution_count": null,
   "outputs": [],
   "source": [
    "def plot_all_activations(dirpath1, dirpath2, layers):\n",
    "    if not os.path.exists(\"clustering\"):\n",
    "        os.mkdir(\"clustering\")\n",
    "        \n",
    "    for layer in layers:\n",
    "        first_pos = torch.load(f\"{dirpath1}/positive_layer_{layer}.pt\")\n",
    "        first_neg = torch.load(f\"{dirpath1}/negative_layer_{layer}.pt\")\n",
    "        second_pos = torch.load(f\"{dirpath2}/positive_layer_{layer}.pt\")\n",
    "        second_neg = torch.load(f\"{dirpath2}/negative_layer_{layer}.pt\")\n",
    "        save_activation_projection_tsne(\n",
    "            first_pos,\n",
    "            first_neg,\n",
    "            second_pos,\n",
    "            second_neg,\n",
    "            f\"clustering/activations_layer_{layer}.png\",\n",
    "            f\"t-SNE projected activations layer {layer}\",\n",
    "            split1_label1=\"Split 1 Positive Examples\",\n",
    "            split1_label2=\"Split 1 Negative Examples\",\n",
    "            split2_label1=\"Split 2 Positive Examples\",\n",
    "            split2_label2=\"Split 2 Negative Examples\"\n",
    "        )"
   ],
   "metadata": {
    "collapsed": false
   },
   "id": "d4bcdc371d245397"
  },
  {
   "cell_type": "markdown",
   "source": [
    "### Cosine Similarity"
   ],
   "metadata": {
    "collapsed": false
   },
   "id": "a9ea126e842acca"
  },
  {
   "cell_type": "code",
   "execution_count": null,
   "outputs": [],
   "source": [
    "import torch.nn.functional as F\n",
    "\n",
    "def plot_all_cosine_similarity(dirpath1, dirpath2, layers):\n",
    "    # Stacking all steering vectors\n",
    "    split1_vec_list, split2_vec_list = [], []\n",
    "    for layer in layers:\n",
    "        split1_vec = torch.load(f\"{dirpath1}/vec_layer_{layer}.pt\")\n",
    "        split1_vec_list.append(split1_vec)    \n",
    "        split2_vec = torch.load(f\"{dirpath2}/vec_layer_{layer}.pt\")\n",
    "        split2_vec_list.append(split2_vec)\n",
    "        \n",
    "    # Computing cosine similarity for each pair\n",
    "    all_split1_vec = torch.stack(split1_vec_list).unsqueeze(1)\n",
    "    all_split2_vec = torch.stack(split2_vec_list).unsqueeze(1)\n",
    "    cosine_sim = F.cosine_similarity(all_split1_vec, all_split2_vec, dim=2).tolist()\n",
    "    \n",
    "    # Visualization \n",
    "    plt.plot(x=layers, y=cosine_sim, marker='o')\n",
    "    \n",
    "    plt.title(f\"Cosine Similarity vs Layer Number\\n{dirpath1}, {dirpath2}\")\n",
    "    plt.xlabel(\"Layer Number\")\n",
    "    plt.ylabel(\"Cosine Similarity\")\n",
    "    plt.savefig(\"cosine_similarity_vs_layer.png\")"
   ],
   "metadata": {
    "collapsed": false
   },
   "id": "958ae40a7bd0624c"
  },
  {
   "cell_type": "code",
   "execution_count": null,
   "outputs": [],
   "source": [
    "first_dirpath = \"refusal_data_2splits_0_exp_data\"\n",
    "second_dirpath = \"refusal_data_2splits_1_exp_data\"\n",
    "start_layer = 0\n",
    "end_layer = 31\n",
    "layer_numbers = list(range(start_layer, end_layer + 1))"
   ],
   "metadata": {
    "collapsed": false
   },
   "id": "916378f62fa443d4"
  },
  {
   "cell_type": "code",
   "execution_count": null,
   "outputs": [],
   "source": [
    "plot_all_activations(first_dirpath, second_dirpath, layer_numbers)"
   ],
   "metadata": {
    "collapsed": false
   },
   "id": "9ecad2f2aed9c5de"
  },
  {
   "cell_type": "code",
   "execution_count": null,
   "outputs": [],
   "source": [
    "plot_all_cosine_similarity(first_dirpath, second_dirpath, layer_numbers)"
   ],
   "metadata": {
    "collapsed": false
   },
   "id": "fd2ecae2e9ad3ed"
  }
 ],
 "metadata": {
  "kernelspec": {
   "display_name": "Python 3",
   "language": "python",
   "name": "python3"
  },
  "language_info": {
   "codemirror_mode": {
    "name": "ipython",
    "version": 2
   },
   "file_extension": ".py",
   "mimetype": "text/x-python",
   "name": "python",
   "nbconvert_exporter": "python",
   "pygments_lexer": "ipython2",
   "version": "2.7.6"
  }
 },
 "nbformat": 4,
 "nbformat_minor": 5
}
