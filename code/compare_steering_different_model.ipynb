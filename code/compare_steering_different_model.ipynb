{
 "cells": [
  {
   "cell_type": "code",
   "execution_count": 1,
   "id": "initial_id",
   "metadata": {
    "collapsed": true,
    "ExecuteTime": {
     "end_time": "2023-11-23T22:59:27.416711Z",
     "start_time": "2023-11-23T22:59:25.645051Z"
    }
   },
   "outputs": [],
   "source": [
    "%%capture\n",
    "!pip install torch tqdm matplotlib scikit-learn"
   ]
  },
  {
   "cell_type": "code",
   "execution_count": 2,
   "outputs": [],
   "source": [
    "import os\n",
    "import numpy as np\n",
    "import torch\n",
    "import torch.nn.functional as F\n",
    "from matplotlib import pyplot as plt\n",
    "from sklearn.decomposition import PCA\n",
    "from sklearn.manifold import TSNE\n",
    "from sklearn.model_selection import train_test_split\n",
    "from cca_zoo.linear import CCA\n",
    "from cca_zoo.deep import architectures, DCCA\n",
    "from cca_zoo.data.deep import NumpyDataset, check_dataset, get_dataloaders\n",
    "import pytorch_lightning as pl"
   ],
   "metadata": {
    "collapsed": false,
    "ExecuteTime": {
     "end_time": "2023-11-23T22:59:30.298232Z",
     "start_time": "2023-11-23T22:59:27.416899Z"
    }
   },
   "id": "8945c51eb7747e86"
  },
  {
   "cell_type": "markdown",
   "source": [
    "## Plotting Code"
   ],
   "metadata": {
    "collapsed": false
   },
   "id": "d18ee59c478ad7c4"
  },
  {
   "cell_type": "markdown",
   "source": [
    "### Clustering using t-SNE"
   ],
   "metadata": {
    "collapsed": false
   },
   "id": "b57268e1ae676fd1"
  },
  {
   "cell_type": "code",
   "execution_count": 3,
   "outputs": [],
   "source": [
    "def save_activation_projection_tsne(\n",
    "    split1_activations1,\n",
    "    split1_activations2,\n",
    "    split2_activations1,\n",
    "    split2_activations2,\n",
    "    fname,\n",
    "    title,\n",
    "    split1_label1=\"Split 1 Positive Examples\",\n",
    "    split1_label2=\"Split 1 Negative Examples\",\n",
    "    split2_label1=\"Split 2 Positive Examples\",\n",
    "    split2_label2=\"Split 2 Negative Examples\",\n",
    "):\n",
    "    \"\"\"\n",
    "    split1_activations1: n_samples x vector dim tensor\n",
    "    split1_activations2: n_samples x vector dim tensor\n",
    "    split2_activations1: n_samples x vector dim tensor\n",
    "    split2_activations2: n_samples x vector dim tensor\n",
    "\n",
    "    projects to n_samples x 2 dim tensor using t-SNE (over the full dataset of both activations 1 and 2) and saves visualization.\n",
    "    Colors projected activations1 as blue and projected activations2 as red for the first split.\n",
    "    Colors projected activations1 as green and projected activations2 as orange for the second split.\n",
    "    \"\"\"\n",
    "    plt.clf()\n",
    "    activations = torch.cat([split1_activations1, split1_activations2, split2_activations1, split2_activations2], dim=0)\n",
    "    activations_np = activations.cpu().numpy()\n",
    "\n",
    "    # t-SNE transformation\n",
    "    tsne = TSNE(n_components=2)\n",
    "    projected_activations = tsne.fit_transform(activations_np)\n",
    "\n",
    "    # Getting back activations1 and activations2 for both splits\n",
    "    indices = [\n",
    "        (0, split1_activations1.shape[0]),\n",
    "        (split1_activations1.shape[0], split1_activations1.shape[0] + split1_activations2.shape[0]),\n",
    "        (split1_activations1.shape[0] + split1_activations2.shape[0], split1_activations1.shape[0] + split1_activations2.shape[0] + split2_activations1.shape[0]),\n",
    "        (split1_activations1.shape[0] + split1_activations2.shape[0] + split2_activations1.shape[0], None)\n",
    "    ]\n",
    "    split1_activations1_projected = projected_activations[indices[0][0]: indices[0][1]]\n",
    "    split1_activations2_projected = projected_activations[indices[1][0]: indices[1][1]]\n",
    "    split2_activations1_projected = projected_activations[indices[2][0]: indices[2][1]]\n",
    "    split2_activations2_projected = projected_activations[indices[3][0]: indices[3][1]]\n",
    "\n",
    "    # Visualization for split 1\n",
    "    for x, y in split1_activations1_projected:\n",
    "        plt.scatter(x, y, color=\"blue\", marker=\"o\", alpha=0.4)\n",
    "\n",
    "    for x, y in split1_activations2_projected:\n",
    "        plt.scatter(x, y, color=\"red\", marker=\"o\", alpha=0.4)\n",
    "        \n",
    "    # Visualization for split 2\n",
    "    for x, y in split2_activations1_projected:\n",
    "        plt.scatter(x, y, color=\"green\", marker=\"s\", alpha=0.4)\n",
    "\n",
    "    for x, y in split2_activations2_projected:\n",
    "        plt.scatter(x, y, color=\"orange\", marker=\"s\", alpha=0.4)\n",
    "\n",
    "    # Adding the legend\n",
    "    split1_scatter1 = plt.Line2D(\n",
    "        [0],\n",
    "        [0],\n",
    "        marker=\"o\",\n",
    "        color=\"w\",\n",
    "        markerfacecolor=\"blue\",\n",
    "        markersize=10,\n",
    "        label=split1_label1,\n",
    "    )\n",
    "    split1_scatter2 = plt.Line2D(\n",
    "        [0],\n",
    "        [0],\n",
    "        marker=\"o\",\n",
    "        color=\"w\",\n",
    "        markerfacecolor=\"red\",\n",
    "        markersize=10,\n",
    "        label=split1_label2,\n",
    "    )\n",
    "    \n",
    "    split2_scatter1 = plt.Line2D(\n",
    "        [0],\n",
    "        [0],\n",
    "        marker=\"s\",\n",
    "        color=\"w\",\n",
    "        markerfacecolor=\"green\",\n",
    "        markersize=10,\n",
    "        label=split2_label1,\n",
    "    )\n",
    "    split2_scatter2 = plt.Line2D(\n",
    "        [0],\n",
    "        [0],\n",
    "        marker=\"s\",\n",
    "        color=\"w\",\n",
    "        markerfacecolor=\"orange\",\n",
    "        markersize=10,\n",
    "        label=split2_label2,\n",
    "    )\n",
    "\n",
    "    plt.legend(handles=[split1_scatter1, split1_scatter2, split2_scatter1, split2_scatter2])\n",
    "    plt.title(title)\n",
    "    plt.xlabel(\"t-SNE 1\")\n",
    "    plt.ylabel(\"t-SNE 2\")\n",
    "    plt.savefig(fname)"
   ],
   "metadata": {
    "collapsed": false,
    "ExecuteTime": {
     "end_time": "2023-11-23T22:59:30.304400Z",
     "start_time": "2023-11-23T22:59:30.302385Z"
    }
   },
   "id": "41e400aa645ef57a"
  },
  {
   "cell_type": "code",
   "execution_count": 4,
   "outputs": [],
   "source": [
    "def plot_all_activations(dirpath1, dirpath2, layers):\n",
    "    if not os.path.exists(\"../save\"):\n",
    "        os.mkdir(\"../save\")\n",
    "        \n",
    "    for layer in layers:\n",
    "        first_pos = torch.load(f\"{dirpath1}/positive_layer_{layer}.pt\")\n",
    "        first_neg = torch.load(f\"{dirpath1}/negative_layer_{layer}.pt\")\n",
    "        second_pos = torch.load(f\"{dirpath2}/positive_layer_{layer}.pt\")\n",
    "        second_neg = torch.load(f\"{dirpath2}/negative_layer_{layer}.pt\")\n",
    "        \n",
    "        # reduce dimensionality using PCA\n",
    "        pca_dim = min(first_pos.shape[0] + first_neg.shape[0],\n",
    "                      second_pos.shape[0] + second_neg.shape[0])\n",
    "        \n",
    "        first_pca = PCA(n_components=pca_dim)\n",
    "        first_pca.fit(torch.cat([first_pos, first_neg], dim=0))\n",
    "        first_pos = torch.tensor(first_pca.transform(first_pos))\n",
    "        first_neg = torch.tensor(first_pca.transform(first_neg))\n",
    "        \n",
    "        second_pca = PCA(n_components=pca_dim)\n",
    "        second_pca.fit(torch.cat([second_pos, second_neg], dim=0))\n",
    "        second_pos = torch.tensor(second_pca.transform(second_pos))\n",
    "        second_neg = torch.tensor(second_pca.transform(second_neg))\n",
    "        \n",
    "        save_activation_projection_tsne(\n",
    "            first_pos,\n",
    "            first_neg,\n",
    "            second_pos,\n",
    "            second_neg,\n",
    "            f\"../save/activations_layer_{layer}.png\",\n",
    "            f\"t-SNE projected activations layer {layer}\",\n",
    "            split1_label1=\"Split 1 Positive Examples\",\n",
    "            split1_label2=\"Split 1 Negative Examples\",\n",
    "            split2_label1=\"Split 2 Positive Examples\",\n",
    "            split2_label2=\"Split 2 Negative Examples\"\n",
    "        )"
   ],
   "metadata": {
    "collapsed": false,
    "ExecuteTime": {
     "end_time": "2023-11-23T22:59:30.309396Z",
     "start_time": "2023-11-23T22:59:30.307336Z"
    }
   },
   "id": "d4bcdc371d245397"
  },
  {
   "cell_type": "markdown",
   "source": [
    "### Cosine Similarity"
   ],
   "metadata": {
    "collapsed": false
   },
   "id": "a9ea126e842acca"
  },
  {
   "cell_type": "code",
   "execution_count": 5,
   "outputs": [],
   "source": [
    "def plot_all_cosine_similarity(dirpath1, dirpath2, layers):\n",
    "    # Stacking all steering vectors\n",
    "    split1_vec_list, split2_vec_list = [], []\n",
    "    for layer in layers:\n",
    "        split1_vec = torch.load(f\"{dirpath1}/vec_layer_{layer}.pt\")\n",
    "        split1_vec_list.append(split1_vec)    \n",
    "        split2_vec = torch.load(f\"{dirpath2}/vec_layer_{layer}.pt\")\n",
    "        split2_vec_list.append(split2_vec)\n",
    "        \n",
    "    # reduce dimensionality\n",
    "    dim = min(len(split1_vec_list), len(split2_vec_list))\n",
    "    split1_pca = PCA(n_components=dim)\n",
    "    split1_vec_list = [torch.tensor(t) for t in split1_pca.fit_transform(split1_vec_list)]\n",
    "    split2_pca = PCA(n_components=dim)\n",
    "    split2_vec_list = [torch.tensor(t) for t in split2_pca.fit_transform(split2_vec_list)]\n",
    "        \n",
    "    # Computing cosine similarity for each pair\n",
    "    all_split1_vec = torch.stack(split1_vec_list).unsqueeze(1)\n",
    "    all_split2_vec = torch.stack(split2_vec_list).unsqueeze(1)\n",
    "    cosine_sim = F.cosine_similarity(all_split1_vec, all_split2_vec, dim=2).tolist()\n",
    "    \n",
    "    # Visualization \n",
    "    plt.plot(layers, cosine_sim, marker='o')\n",
    "    \n",
    "    plt.title(f\"Cosine Similarity of Steering Vectors vs Layer Number\\nSplit 1: {dirpath1}\\nSplit 2: {dirpath2}\")\n",
    "    plt.xlabel(\"Layer Number\")\n",
    "    plt.ylabel(\"Cosine Similarity\")\n",
    "    plt.ylim([-1.05, 1.05])\n",
    "    plt.tight_layout()\n",
    "    plt.savefig(\"../save/cosine_similarity_vs_layer.png\")"
   ],
   "metadata": {
    "collapsed": false,
    "ExecuteTime": {
     "end_time": "2023-11-23T22:59:30.313657Z",
     "start_time": "2023-11-23T22:59:30.309642Z"
    }
   },
   "id": "958ae40a7bd0624c"
  },
  {
   "cell_type": "markdown",
   "source": [
    "### CCA "
   ],
   "metadata": {
    "collapsed": false
   },
   "id": "8d9c7c7016a6b3cc"
  },
  {
   "cell_type": "code",
   "execution_count": 6,
   "outputs": [],
   "source": [
    "def plot_all_cca_values(dirpath1, dirpath2, layers):\n",
    "    # Learning common subspace for activation vectors using CCA\n",
    "    layer_cca_list = []\n",
    "    for layer in layers:\n",
    "        print(\"CCA for layer:\", layer)\n",
    "        first_activations = torch.cat([torch.load(f\"{dirpath1}/positive_layer_{layer}.pt\"),\n",
    "                                       torch.load(f\"{dirpath1}/negative_layer_{layer}.pt\")])\n",
    "        second_activations = torch.cat([torch.load(f\"{dirpath2}/positive_layer_{layer}.pt\"),\n",
    "                                        torch.load(f\"{dirpath2}/negative_layer_{layer}.pt\")])\n",
    "        dim = min(first_activations.shape[1], second_activations.shape[1], 100)\n",
    "        cca = CCA(dim)\n",
    "        cca.fit([first_activations.numpy(), second_activations.numpy()])\n",
    "        layer_cca_list.append(cca)\n",
    "        \n",
    "    # Transforming steering vectors into learnt subspace\n",
    "    split1_vec_list, split2_vec_list = [], []\n",
    "    for layer in layers:\n",
    "        split1_vec = torch.load(f\"{dirpath1}/vec_layer_{layer}.pt\")\n",
    "        split2_vec = torch.load(f\"{dirpath2}/vec_layer_{layer}.pt\")\n",
    "        \n",
    "        cca = layer_cca_list[layer]\n",
    "        cca_split1_vec, cca_split2_vec = cca.transform([split1_vec, split2_vec])\n",
    "        split1_vec_list.append(cca_split1_vec)\n",
    "        split2_vec_list.append(cca_split2_vec)\n",
    "        \n",
    "    # Computing cosine similarity for each pair\n",
    "    all_split1_vec = torch.stack(split1_vec_list).unsqueeze(1)\n",
    "    all_split2_vec = torch.stack(split2_vec_list).unsqueeze(1)\n",
    "    cosine_sim = F.cosine_similarity(all_split1_vec, all_split2_vec, dim=2).tolist()\n",
    "    \n",
    "    # Visualization \n",
    "    plt.plot(layers, cosine_sim, marker='o')\n",
    "    \n",
    "    plt.title(f\"Cosine Similarity of CCA Steering Vectors vs Layer Number\\nSplit 1: {dirpath1}\\nSplit 2: {dirpath2}\")\n",
    "    plt.xlabel(\"Layer Number\")\n",
    "    plt.ylabel(\"Cosine Similarity\")\n",
    "    plt.ylim([-1.05, 1.05])\n",
    "    plt.tight_layout()\n",
    "    plt.savefig(\"../save/cca_cosine_similarity_vs_layer.png\")"
   ],
   "metadata": {
    "collapsed": false,
    "ExecuteTime": {
     "end_time": "2023-11-23T22:59:30.318734Z",
     "start_time": "2023-11-23T22:59:30.316727Z"
    }
   },
   "id": "d88d9f183ad96938"
  },
  {
   "cell_type": "markdown",
   "source": [
    "### DCCA"
   ],
   "metadata": {
    "collapsed": false
   },
   "id": "f12128493e941d61"
  },
  {
   "cell_type": "code",
   "execution_count": 7,
   "outputs": [],
   "source": [
    "def plot_all_dcca_values(dirpath1, dirpath2, layers):\n",
    "    # Learning common subspace for activation vectors using DCCA\n",
    "    layer_dcca_list = []\n",
    "    for layer in layers:\n",
    "        print(\"DCCA for layer:\", layer)\n",
    "        first_activations = torch.cat([torch.load(f\"{dirpath1}/positive_layer_{layer}.pt\"),\n",
    "                                       torch.load(f\"{dirpath1}/negative_layer_{layer}.pt\")])\n",
    "        second_activations = torch.cat([torch.load(f\"{dirpath2}/positive_layer_{layer}.pt\"),\n",
    "                                        torch.load(f\"{dirpath2}/negative_layer_{layer}.pt\")])\n",
    "        \n",
    "        assert np.isnan(first_activations).any() == False\n",
    "        assert np.isnan(second_activations).any() == False\n",
    "        \n",
    "        # Define DCCA model\n",
    "        dim = min(first_activations.shape[1], second_activations.shape[1], 25)\n",
    "        first_encoder = architectures.Encoder(latent_dimensions=dim, feature_size=first_activations.shape[1])\n",
    "        second_encoder = architectures.Encoder(latent_dimensions=dim, feature_size=second_activations.shape[1])\n",
    "        dcca_model = DCCA(latent_dimensions=dim, encoders=[first_encoder, second_encoder])\n",
    "        \n",
    "        # Train DCCA model\n",
    "        first_activations_train_dataset, first_activations_val_dataset = train_test_split(first_activations.numpy(), \n",
    "                                                                                          test_size=0.33,\n",
    "                                                                                          shuffle=True)\n",
    "        second_activations_train_dataset, second_activations_val_dataset = train_test_split(second_activations.numpy(), \n",
    "                                                                                            test_size=0.33,\n",
    "                                                                                            shuffle=True)\n",
    "        activations_train_dataset = NumpyDataset([first_activations_train_dataset, second_activations_train_dataset])\n",
    "        activations_val_dataset = NumpyDataset([first_activations_val_dataset, second_activations_val_dataset])\n",
    "        train_loader = get_dataloaders(activations_train_dataset, batch_size=128)\n",
    "        val_loader = get_dataloaders(activations_val_dataset, batch_size=128)\n",
    "        epochs = 50\n",
    "        trainer = pl.Trainer(\n",
    "            accelerator=\"cpu\",\n",
    "            max_epochs=epochs,\n",
    "            enable_checkpointing=False,\n",
    "            enable_model_summary=False,\n",
    "            enable_progress_bar=True,\n",
    "        )\n",
    "        trainer.fit(dcca_model, train_dataloaders=train_loader)\n",
    "        trainer.test(dcca_model, dataloaders=val_loader)\n",
    "        layer_dcca_list.append(dcca_model)\n",
    "        \n",
    "    # Transforming steering vectors into learnt subspace\n",
    "    split1_vec_list, split2_vec_list = [], []\n",
    "    for layer in layers:\n",
    "        split1_vec = torch.load(f\"{dirpath1}/vec_layer_{layer}.pt\")\n",
    "        split2_vec = torch.load(f\"{dirpath2}/vec_layer_{layer}.pt\")\n",
    "        \n",
    "        dcca_model = layer_dcca_list[layer]\n",
    "        dcca_split1_vec, dcca_split2_vec = dcca_model([split1_vec, split2_vec])\n",
    "        split1_vec_list.append(dcca_split1_vec)\n",
    "        split2_vec_list.append(dcca_split2_vec)\n",
    "        \n",
    "    # Computing cosine similarity for each pair\n",
    "    all_split1_vec = torch.stack(split1_vec_list).unsqueeze(1)\n",
    "    all_split2_vec = torch.stack(split2_vec_list).unsqueeze(1)\n",
    "    cosine_sim = F.cosine_similarity(all_split1_vec, all_split2_vec, dim=2).tolist()\n",
    "    \n",
    "    # Visualization \n",
    "    plt.plot(layers, cosine_sim, marker='o')\n",
    "    \n",
    "    plt.title(f\"Cosine Similarity of DCCA Steering Vectors vs Layer Number\\nSplit 1: {dirpath1}\\nSplit 2: {dirpath2}\")\n",
    "    plt.xlabel(\"Layer Number\")\n",
    "    plt.ylabel(\"Cosine Similarity\")\n",
    "    plt.ylim([-1.05, 1.05])\n",
    "    plt.tight_layout()\n",
    "    plt.savefig(\"../save/dcca_cosine_similarity_vs_layer.png\")"
   ],
   "metadata": {
    "collapsed": false,
    "ExecuteTime": {
     "end_time": "2023-11-23T22:59:30.325916Z",
     "start_time": "2023-11-23T22:59:30.322519Z"
    }
   },
   "id": "c7c1542fbe6932da"
  },
  {
   "cell_type": "code",
   "execution_count": 8,
   "outputs": [],
   "source": [
    "first_dirpath = \"../save/llama_7b_refusal_data_2splits_0_exp_data\"\n",
    "second_dirpath = \"../save/llama_13b_refusal_data_2splits_0_exp_data\"\n",
    "start_layer = 0\n",
    "end_layer = 31\n",
    "layer_numbers = list(range(start_layer, end_layer + 1))"
   ],
   "metadata": {
    "collapsed": false,
    "ExecuteTime": {
     "end_time": "2023-11-23T22:59:30.326070Z",
     "start_time": "2023-11-23T22:59:30.324552Z"
    }
   },
   "id": "916378f62fa443d4"
  },
  {
   "cell_type": "code",
   "execution_count": 9,
   "outputs": [],
   "source": [
    "# plot_all_activations(first_dirpath, second_dirpath, layer_numbers)"
   ],
   "metadata": {
    "collapsed": false,
    "ExecuteTime": {
     "end_time": "2023-11-23T22:59:30.331200Z",
     "start_time": "2023-11-23T22:59:30.326592Z"
    }
   },
   "id": "9ecad2f2aed9c5de"
  },
  {
   "cell_type": "code",
   "execution_count": 10,
   "outputs": [
    {
     "data": {
      "text/plain": "<Figure size 640x480 with 1 Axes>",
      "image/png": "[encoded data removed]"
     },
     "metadata": {},
     "output_type": "display_data"
    }
   ],
   "source": [
    "plot_all_cosine_similarity(first_dirpath, second_dirpath, layer_numbers)"
   ],
   "metadata": {
    "collapsed": false,
    "ExecuteTime": {
     "end_time": "2023-11-23T22:59:31.300908Z",
     "start_time": "2023-11-23T22:59:30.329940Z"
    }
   },
   "id": "fd2ecae2e9ad3ed"
  },
  {
   "cell_type": "code",
   "execution_count": 11,
   "outputs": [
    {
     "name": "stdout",
     "output_type": "stream",
     "text": [
      "CCA for layer: 0\n",
      "CCA for layer: 1\n",
      "CCA for layer: 2\n",
      "CCA for layer: 3\n",
      "CCA for layer: 4\n",
      "CCA for layer: 5\n",
      "CCA for layer: 6\n",
      "CCA for layer: 7\n",
      "CCA for layer: 8\n",
      "CCA for layer: 9\n",
      "CCA for layer: 10\n",
      "CCA for layer: 11\n",
      "CCA for layer: 12\n",
      "CCA for layer: 13\n",
      "CCA for layer: 14\n",
      "CCA for layer: 15\n",
      "CCA for layer: 16\n",
      "CCA for layer: 17\n",
      "CCA for layer: 18\n",
      "CCA for layer: 19\n",
      "CCA for layer: 20\n",
      "CCA for layer: 21\n",
      "CCA for layer: 22\n",
      "CCA for layer: 23\n",
      "CCA for layer: 24\n",
      "CCA for layer: 25\n",
      "CCA for layer: 26\n",
      "CCA for layer: 27\n",
      "CCA for layer: 28\n",
      "CCA for layer: 29\n",
      "CCA for layer: 30\n",
      "CCA for layer: 31\n"
     ]
    },
    {
     "data": {
      "text/plain": "<Figure size 640x480 with 1 Axes>",
      "image/png": "[encoded data removed]"
     },
     "metadata": {},
     "output_type": "display_data"
    }
   ],
   "source": [
    "plot_all_cca_values(first_dirpath, second_dirpath, layer_numbers)"
   ],
   "metadata": {
    "collapsed": false,
    "ExecuteTime": {
     "end_time": "2023-11-23T23:03:58.914881Z",
     "start_time": "2023-11-23T22:59:31.300712Z"
    }
   },
   "id": "24b7f890cc439fde"
  },
  {
   "cell_type": "code",
   "execution_count": 12,
   "outputs": [
    {
     "name": "stderr",
     "output_type": "stream",
     "text": [
      "GPU available: True (mps), used: False\n",
      "TPU available: False, using: 0 TPU cores\n",
      "IPU available: False, using: 0 IPUs\n",
      "HPU available: False, using: 0 HPUs\n"
     ]
    },
    {
     "name": "stdout",
     "output_type": "stream",
     "text": [
      "DCCA for layer: 0\n"
     ]
    },
    {
     "name": "stderr",
     "output_type": "stream",
     "text": [
      "/opt/miniconda3/envs/sparenv/lib/python3.11/site-packages/pytorch_lightning/trainer/setup.py:187: GPU available but not used. You can set it by doing `Trainer(accelerator='gpu')`.\n",
      "/opt/miniconda3/envs/sparenv/lib/python3.11/site-packages/pytorch_lightning/trainer/connectors/logger_connector/logger_connector.py:67: Starting from v1.9.0, `tensorboardX` has been removed as a dependency of the `pytorch_lightning` package, due to potential conflicts with other packages in the ML ecosystem. For this reason, `logger=True` will use `CSVLogger` as the default logger, unless the `tensorboard` or `tensorboardX` packages are found. Please `pip install lightning[extra]` or one of them to enable TensorBoard support by default\n",
      "/opt/miniconda3/envs/sparenv/lib/python3.11/site-packages/pytorch_lightning/trainer/configuration_validator.py:74: You defined a `validation_step` but have no `val_dataloader`. Skipping val loop.\n",
      "/opt/miniconda3/envs/sparenv/lib/python3.11/site-packages/pytorch_lightning/trainer/connectors/data_connector.py:441: The 'train_dataloader' does not have many workers which may be a bottleneck. Consider increasing the value of the `num_workers` argument` to `num_workers=7` in the `DataLoader` to improve performance.\n",
      "/opt/miniconda3/envs/sparenv/lib/python3.11/site-packages/pytorch_lightning/loops/fit_loop.py:293: The number of training batches (5) is smaller than the logging interval Trainer(log_every_n_steps=50). Set a lower value for log_every_n_steps if you want to see logs for the training epoch.\n"
     ]
    },
    {
     "data": {
      "text/plain": "Training: |          | 0/? [00:00<?, ?it/s]",
      "application/vnd.jupyter.widget-view+json": {
       "version_major": 2,
       "version_minor": 0,
       "model_id": "871f6ad167074afba778ed2617ef3a63"
      }
     },
     "metadata": {},
     "output_type": "display_data"
    },
    {
     "name": "stderr",
     "output_type": "stream",
     "text": [
      "`Trainer.fit` stopped: `max_epochs=50` reached.\n",
      "/opt/miniconda3/envs/sparenv/lib/python3.11/site-packages/pytorch_lightning/trainer/connectors/data_connector.py:441: The 'test_dataloader' does not have many workers which may be a bottleneck. Consider increasing the value of the `num_workers` argument` to `num_workers=7` in the `DataLoader` to improve performance.\n"
     ]
    },
    {
     "data": {
      "text/plain": "Testing: |          | 0/? [00:00<?, ?it/s]",
      "application/vnd.jupyter.widget-view+json": {
       "version_major": 2,
       "version_minor": 0,
       "model_id": "607013bbfea64f94b89cb7ce2d173c06"
      }
     },
     "metadata": {},
     "output_type": "display_data"
    },
    {
     "name": "stderr",
     "output_type": "stream",
     "text": [
      "GPU available: True (mps), used: False\n",
      "TPU available: False, using: 0 TPU cores\n",
      "IPU available: False, using: 0 IPUs\n",
      "HPU available: False, using: 0 HPUs\n"
     ]
    },
    {
     "name": "stdout",
     "output_type": "stream",
     "text": [
      "────────────────────────────────────────────────────────────────────────────────────────────────────────────────────────\n",
      "       Test metric             DataLoader 0\n",
      "────────────────────────────────────────────────────────────────────────────────────────────────────────────────────────\n",
      "     test/objective         -34.60239791870117\n",
      "────────────────────────────────────────────────────────────────────────────────────────────────────────────────────────\n",
      "DCCA for layer: 1\n"
     ]
    },
    {
     "name": "stderr",
     "output_type": "stream",
     "text": [
      "/opt/miniconda3/envs/sparenv/lib/python3.11/site-packages/pytorch_lightning/trainer/setup.py:187: GPU available but not used. You can set it by doing `Trainer(accelerator='gpu')`.\n"
     ]
    },
    {
     "data": {
      "text/plain": "Training: |          | 0/? [00:00<?, ?it/s]",
      "application/vnd.jupyter.widget-view+json": {
       "version_major": 2,
       "version_minor": 0,
       "model_id": "41a73f444cb84c2bb5b6e2a7c4a83fdf"
      }
     },
     "metadata": {},
     "output_type": "display_data"
    },
    {
     "name": "stderr",
     "output_type": "stream",
     "text": [
      "`Trainer.fit` stopped: `max_epochs=50` reached.\n"
     ]
    },
    {
     "data": {
      "text/plain": "Testing: |          | 0/? [00:00<?, ?it/s]",
      "application/vnd.jupyter.widget-view+json": {
       "version_major": 2,
       "version_minor": 0,
       "model_id": "00efbb8cb947473a8befb82eb021c4fc"
      }
     },
     "metadata": {},
     "output_type": "display_data"
    },
    {
     "name": "stderr",
     "output_type": "stream",
     "text": [
      "GPU available: True (mps), used: False\n",
      "TPU available: False, using: 0 TPU cores\n",
      "IPU available: False, using: 0 IPUs\n",
      "HPU available: False, using: 0 HPUs\n"
     ]
    },
    {
     "name": "stdout",
     "output_type": "stream",
     "text": [
      "────────────────────────────────────────────────────────────────────────────────────────────────────────────────────────\n",
      "       Test metric             DataLoader 0\n",
      "────────────────────────────────────────────────────────────────────────────────────────────────────────────────────────\n",
      "     test/objective         -34.74623107910156\n",
      "────────────────────────────────────────────────────────────────────────────────────────────────────────────────────────\n",
      "DCCA for layer: 2\n"
     ]
    },
    {
     "data": {
      "text/plain": "Training: |          | 0/? [00:00<?, ?it/s]",
      "application/vnd.jupyter.widget-view+json": {
       "version_major": 2,
       "version_minor": 0,
       "model_id": "4e835c572d154cc8a29baa5c92028693"
      }
     },
     "metadata": {},
     "output_type": "display_data"
    },
    {
     "name": "stderr",
     "output_type": "stream",
     "text": [
      "`Trainer.fit` stopped: `max_epochs=50` reached.\n"
     ]
    },
    {
     "data": {
      "text/plain": "Testing: |          | 0/? [00:00<?, ?it/s]",
      "application/vnd.jupyter.widget-view+json": {
       "version_major": 2,
       "version_minor": 0,
       "model_id": "9d70531da7b141378a2e857b46436bfc"
      }
     },
     "metadata": {},
     "output_type": "display_data"
    },
    {
     "name": "stderr",
     "output_type": "stream",
     "text": [
      "GPU available: True (mps), used: False\n",
      "TPU available: False, using: 0 TPU cores\n",
      "IPU available: False, using: 0 IPUs\n",
      "HPU available: False, using: 0 HPUs\n"
     ]
    },
    {
     "name": "stdout",
     "output_type": "stream",
     "text": [
      "────────────────────────────────────────────────────────────────────────────────────────────────────────────────────────\n",
      "       Test metric             DataLoader 0\n",
      "────────────────────────────────────────────────────────────────────────────────────────────────────────────────────────\n",
      "     test/objective         -34.724510192871094\n",
      "────────────────────────────────────────────────────────────────────────────────────────────────────────────────────────\n",
      "DCCA for layer: 3\n"
     ]
    },
    {
     "data": {
      "text/plain": "Training: |          | 0/? [00:00<?, ?it/s]",
      "application/vnd.jupyter.widget-view+json": {
       "version_major": 2,
       "version_minor": 0,
       "model_id": "12aa7facc9a142b4be9ec19bf24463a0"
      }
     },
     "metadata": {},
     "output_type": "display_data"
    },
    {
     "name": "stderr",
     "output_type": "stream",
     "text": [
      "`Trainer.fit` stopped: `max_epochs=50` reached.\n"
     ]
    },
    {
     "data": {
      "text/plain": "Testing: |          | 0/? [00:00<?, ?it/s]",
      "application/vnd.jupyter.widget-view+json": {
       "version_major": 2,
       "version_minor": 0,
       "model_id": "c97c8ba3434445eba5c3dd2fab895da0"
      }
     },
     "metadata": {},
     "output_type": "display_data"
    },
    {
     "name": "stderr",
     "output_type": "stream",
     "text": [
      "GPU available: True (mps), used: False\n",
      "TPU available: False, using: 0 TPU cores\n",
      "IPU available: False, using: 0 IPUs\n",
      "HPU available: False, using: 0 HPUs\n"
     ]
    },
    {
     "name": "stdout",
     "output_type": "stream",
     "text": [
      "────────────────────────────────────────────────────────────────────────────────────────────────────────────────────────\n",
      "       Test metric             DataLoader 0\n",
      "────────────────────────────────────────────────────────────────────────────────────────────────────────────────────────\n",
      "     test/objective         -34.56698989868164\n",
      "────────────────────────────────────────────────────────────────────────────────────────────────────────────────────────\n",
      "DCCA for layer: 4\n"
     ]
    },
    {
     "data": {
      "text/plain": "Training: |          | 0/? [00:00<?, ?it/s]",
      "application/vnd.jupyter.widget-view+json": {
       "version_major": 2,
       "version_minor": 0,
       "model_id": "6269a0c4c28a4da3be237ba7cd9bf9a7"
      }
     },
     "metadata": {},
     "output_type": "display_data"
    },
    {
     "name": "stderr",
     "output_type": "stream",
     "text": [
      "`Trainer.fit` stopped: `max_epochs=50` reached.\n"
     ]
    },
    {
     "data": {
      "text/plain": "Testing: |          | 0/? [00:00<?, ?it/s]",
      "application/vnd.jupyter.widget-view+json": {
       "version_major": 2,
       "version_minor": 0,
       "model_id": "0bd708bfc220490faaae7d046af3a0c7"
      }
     },
     "metadata": {},
     "output_type": "display_data"
    },
    {
     "name": "stderr",
     "output_type": "stream",
     "text": [
      "GPU available: True (mps), used: False\n",
      "TPU available: False, using: 0 TPU cores\n",
      "IPU available: False, using: 0 IPUs\n",
      "HPU available: False, using: 0 HPUs\n"
     ]
    },
    {
     "name": "stdout",
     "output_type": "stream",
     "text": [
      "────────────────────────────────────────────────────────────────────────────────────────────────────────────────────────\n",
      "       Test metric             DataLoader 0\n",
      "────────────────────────────────────────────────────────────────────────────────────────────────────────────────────────\n",
      "     test/objective         -34.65503692626953\n",
      "────────────────────────────────────────────────────────────────────────────────────────────────────────────────────────\n",
      "DCCA for layer: 5\n"
     ]
    },
    {
     "data": {
      "text/plain": "Training: |          | 0/? [00:00<?, ?it/s]",
      "application/vnd.jupyter.widget-view+json": {
       "version_major": 2,
       "version_minor": 0,
       "model_id": "1295cb12c067475781eb5702694c7c9b"
      }
     },
     "metadata": {},
     "output_type": "display_data"
    },
    {
     "name": "stderr",
     "output_type": "stream",
     "text": [
      "`Trainer.fit` stopped: `max_epochs=50` reached.\n"
     ]
    },
    {
     "data": {
      "text/plain": "Testing: |          | 0/? [00:00<?, ?it/s]",
      "application/vnd.jupyter.widget-view+json": {
       "version_major": 2,
       "version_minor": 0,
       "model_id": "4c8f2b59ef3743ab8dde1e112fa711f0"
      }
     },
     "metadata": {},
     "output_type": "display_data"
    },
    {
     "name": "stderr",
     "output_type": "stream",
     "text": [
      "GPU available: True (mps), used: False\n",
      "TPU available: False, using: 0 TPU cores\n",
      "IPU available: False, using: 0 IPUs\n",
      "HPU available: False, using: 0 HPUs\n"
     ]
    },
    {
     "name": "stdout",
     "output_type": "stream",
     "text": [
      "────────────────────────────────────────────────────────────────────────────────────────────────────────────────────────\n",
      "       Test metric             DataLoader 0\n",
      "────────────────────────────────────────────────────────────────────────────────────────────────────────────────────────\n",
      "     test/objective         -34.83893966674805\n",
      "────────────────────────────────────────────────────────────────────────────────────────────────────────────────────────\n",
      "DCCA for layer: 6\n"
     ]
    },
    {
     "data": {
      "text/plain": "Training: |          | 0/? [00:00<?, ?it/s]",
      "application/vnd.jupyter.widget-view+json": {
       "version_major": 2,
       "version_minor": 0,
       "model_id": "c9e277c47084414d9c87fa5d1ee2548c"
      }
     },
     "metadata": {},
     "output_type": "display_data"
    },
    {
     "name": "stderr",
     "output_type": "stream",
     "text": [
      "`Trainer.fit` stopped: `max_epochs=50` reached.\n"
     ]
    },
    {
     "data": {
      "text/plain": "Testing: |          | 0/? [00:00<?, ?it/s]",
      "application/vnd.jupyter.widget-view+json": {
       "version_major": 2,
       "version_minor": 0,
       "model_id": "140b91516aed4e5285b97d430b353500"
      }
     },
     "metadata": {},
     "output_type": "display_data"
    },
    {
     "name": "stderr",
     "output_type": "stream",
     "text": [
      "GPU available: True (mps), used: False\n",
      "TPU available: False, using: 0 TPU cores\n",
      "IPU available: False, using: 0 IPUs\n",
      "HPU available: False, using: 0 HPUs\n"
     ]
    },
    {
     "name": "stdout",
     "output_type": "stream",
     "text": [
      "────────────────────────────────────────────────────────────────────────────────────────────────────────────────────────\n",
      "       Test metric             DataLoader 0\n",
      "────────────────────────────────────────────────────────────────────────────────────────────────────────────────────────\n",
      "     test/objective         -34.64396286010742\n",
      "────────────────────────────────────────────────────────────────────────────────────────────────────────────────────────\n",
      "DCCA for layer: 7\n"
     ]
    },
    {
     "data": {
      "text/plain": "Training: |          | 0/? [00:00<?, ?it/s]",
      "application/vnd.jupyter.widget-view+json": {
       "version_major": 2,
       "version_minor": 0,
       "model_id": "f69ea555408e4d2585ec2488cbc81813"
      }
     },
     "metadata": {},
     "output_type": "display_data"
    },
    {
     "name": "stderr",
     "output_type": "stream",
     "text": [
      "`Trainer.fit` stopped: `max_epochs=50` reached.\n"
     ]
    },
    {
     "data": {
      "text/plain": "Testing: |          | 0/? [00:00<?, ?it/s]",
      "application/vnd.jupyter.widget-view+json": {
       "version_major": 2,
       "version_minor": 0,
       "model_id": "532be89977264229b73fbe6463314cd4"
      }
     },
     "metadata": {},
     "output_type": "display_data"
    },
    {
     "name": "stderr",
     "output_type": "stream",
     "text": [
      "GPU available: True (mps), used: False\n",
      "TPU available: False, using: 0 TPU cores\n",
      "IPU available: False, using: 0 IPUs\n",
      "HPU available: False, using: 0 HPUs\n"
     ]
    },
    {
     "name": "stdout",
     "output_type": "stream",
     "text": [
      "────────────────────────────────────────────────────────────────────────────────────────────────────────────────────────\n",
      "       Test metric             DataLoader 0\n",
      "────────────────────────────────────────────────────────────────────────────────────────────────────────────────────────\n",
      "     test/objective         -34.58649444580078\n",
      "────────────────────────────────────────────────────────────────────────────────────────────────────────────────────────\n",
      "DCCA for layer: 8\n"
     ]
    },
    {
     "data": {
      "text/plain": "Training: |          | 0/? [00:00<?, ?it/s]",
      "application/vnd.jupyter.widget-view+json": {
       "version_major": 2,
       "version_minor": 0,
       "model_id": "d9b2453594cc44d68db495bfbc3ce09c"
      }
     },
     "metadata": {},
     "output_type": "display_data"
    },
    {
     "name": "stderr",
     "output_type": "stream",
     "text": [
      "`Trainer.fit` stopped: `max_epochs=50` reached.\n"
     ]
    },
    {
     "data": {
      "text/plain": "Testing: |          | 0/? [00:00<?, ?it/s]",
      "application/vnd.jupyter.widget-view+json": {
       "version_major": 2,
       "version_minor": 0,
       "model_id": "501cd3cfcdc14a97a5629da95719d633"
      }
     },
     "metadata": {},
     "output_type": "display_data"
    },
    {
     "name": "stderr",
     "output_type": "stream",
     "text": [
      "GPU available: True (mps), used: False\n",
      "TPU available: False, using: 0 TPU cores\n",
      "IPU available: False, using: 0 IPUs\n",
      "HPU available: False, using: 0 HPUs\n"
     ]
    },
    {
     "name": "stdout",
     "output_type": "stream",
     "text": [
      "────────────────────────────────────────────────────────────────────────────────────────────────────────────────────────\n",
      "       Test metric             DataLoader 0\n",
      "────────────────────────────────────────────────────────────────────────────────────────────────────────────────────────\n",
      "     test/objective         -34.54315185546875\n",
      "────────────────────────────────────────────────────────────────────────────────────────────────────────────────────────\n",
      "DCCA for layer: 9\n"
     ]
    },
    {
     "data": {
      "text/plain": "Training: |          | 0/? [00:00<?, ?it/s]",
      "application/vnd.jupyter.widget-view+json": {
       "version_major": 2,
       "version_minor": 0,
       "model_id": "636ece6c430949a797601dfaadd62578"
      }
     },
     "metadata": {},
     "output_type": "display_data"
    },
    {
     "name": "stderr",
     "output_type": "stream",
     "text": [
      "`Trainer.fit` stopped: `max_epochs=50` reached.\n"
     ]
    },
    {
     "data": {
      "text/plain": "Testing: |          | 0/? [00:00<?, ?it/s]",
      "application/vnd.jupyter.widget-view+json": {
       "version_major": 2,
       "version_minor": 0,
       "model_id": "1a5f08c0f3644647891353ef9205d067"
      }
     },
     "metadata": {},
     "output_type": "display_data"
    },
    {
     "name": "stderr",
     "output_type": "stream",
     "text": [
      "GPU available: True (mps), used: False\n",
      "TPU available: False, using: 0 TPU cores\n",
      "IPU available: False, using: 0 IPUs\n",
      "HPU available: False, using: 0 HPUs\n"
     ]
    },
    {
     "name": "stdout",
     "output_type": "stream",
     "text": [
      "────────────────────────────────────────────────────────────────────────────────────────────────────────────────────────\n",
      "       Test metric             DataLoader 0\n",
      "────────────────────────────────────────────────────────────────────────────────────────────────────────────────────────\n",
      "     test/objective         -34.51483917236328\n",
      "────────────────────────────────────────────────────────────────────────────────────────────────────────────────────────\n",
      "DCCA for layer: 10\n"
     ]
    },
    {
     "data": {
      "text/plain": "Training: |          | 0/? [00:00<?, ?it/s]",
      "application/vnd.jupyter.widget-view+json": {
       "version_major": 2,
       "version_minor": 0,
       "model_id": "4dade258b09648ac8b1b79bdf077d33e"
      }
     },
     "metadata": {},
     "output_type": "display_data"
    },
    {
     "name": "stderr",
     "output_type": "stream",
     "text": [
      "`Trainer.fit` stopped: `max_epochs=50` reached.\n"
     ]
    },
    {
     "data": {
      "text/plain": "Testing: |          | 0/? [00:00<?, ?it/s]",
      "application/vnd.jupyter.widget-view+json": {
       "version_major": 2,
       "version_minor": 0,
       "model_id": "13ec063136d6458fb08f91c2dbcfb1ac"
      }
     },
     "metadata": {},
     "output_type": "display_data"
    },
    {
     "name": "stderr",
     "output_type": "stream",
     "text": [
      "GPU available: True (mps), used: False\n",
      "TPU available: False, using: 0 TPU cores\n",
      "IPU available: False, using: 0 IPUs\n",
      "HPU available: False, using: 0 HPUs\n"
     ]
    },
    {
     "name": "stdout",
     "output_type": "stream",
     "text": [
      "────────────────────────────────────────────────────────────────────────────────────────────────────────────────────────\n",
      "       Test metric             DataLoader 0\n",
      "────────────────────────────────────────────────────────────────────────────────────────────────────────────────────────\n",
      "     test/objective         -34.62077713012695\n",
      "────────────────────────────────────────────────────────────────────────────────────────────────────────────────────────\n",
      "DCCA for layer: 11\n"
     ]
    },
    {
     "data": {
      "text/plain": "Training: |          | 0/? [00:00<?, ?it/s]",
      "application/vnd.jupyter.widget-view+json": {
       "version_major": 2,
       "version_minor": 0,
       "model_id": "db96caaaafb7469e85c5da6af4443af5"
      }
     },
     "metadata": {},
     "output_type": "display_data"
    },
    {
     "name": "stderr",
     "output_type": "stream",
     "text": [
      "`Trainer.fit` stopped: `max_epochs=50` reached.\n"
     ]
    },
    {
     "data": {
      "text/plain": "Testing: |          | 0/? [00:00<?, ?it/s]",
      "application/vnd.jupyter.widget-view+json": {
       "version_major": 2,
       "version_minor": 0,
       "model_id": "0af2da1d5dfa4907a2905d730d2bdffb"
      }
     },
     "metadata": {},
     "output_type": "display_data"
    },
    {
     "name": "stderr",
     "output_type": "stream",
     "text": [
      "GPU available: True (mps), used: False\n",
      "TPU available: False, using: 0 TPU cores\n",
      "IPU available: False, using: 0 IPUs\n",
      "HPU available: False, using: 0 HPUs\n"
     ]
    },
    {
     "name": "stdout",
     "output_type": "stream",
     "text": [
      "────────────────────────────────────────────────────────────────────────────────────────────────────────────────────────\n",
      "       Test metric             DataLoader 0\n",
      "────────────────────────────────────────────────────────────────────────────────────────────────────────────────────────\n",
      "     test/objective         -34.61075210571289\n",
      "────────────────────────────────────────────────────────────────────────────────────────────────────────────────────────\n",
      "DCCA for layer: 12\n"
     ]
    },
    {
     "data": {
      "text/plain": "Training: |          | 0/? [00:00<?, ?it/s]",
      "application/vnd.jupyter.widget-view+json": {
       "version_major": 2,
       "version_minor": 0,
       "model_id": "ddd4724b72ce45b68f2b4fa08e62476e"
      }
     },
     "metadata": {},
     "output_type": "display_data"
    },
    {
     "name": "stderr",
     "output_type": "stream",
     "text": [
      "`Trainer.fit` stopped: `max_epochs=50` reached.\n"
     ]
    },
    {
     "data": {
      "text/plain": "Testing: |          | 0/? [00:00<?, ?it/s]",
      "application/vnd.jupyter.widget-view+json": {
       "version_major": 2,
       "version_minor": 0,
       "model_id": "a7cc7b3466c34f66ab4dc3863c3262a5"
      }
     },
     "metadata": {},
     "output_type": "display_data"
    },
    {
     "name": "stderr",
     "output_type": "stream",
     "text": [
      "GPU available: True (mps), used: False\n",
      "TPU available: False, using: 0 TPU cores\n",
      "IPU available: False, using: 0 IPUs\n",
      "HPU available: False, using: 0 HPUs\n"
     ]
    },
    {
     "name": "stdout",
     "output_type": "stream",
     "text": [
      "────────────────────────────────────────────────────────────────────────────────────────────────────────────────────────\n",
      "       Test metric             DataLoader 0\n",
      "────────────────────────────────────────────────────────────────────────────────────────────────────────────────────────\n",
      "     test/objective         -34.364967346191406\n",
      "────────────────────────────────────────────────────────────────────────────────────────────────────────────────────────\n",
      "DCCA for layer: 13\n"
     ]
    },
    {
     "data": {
      "text/plain": "Training: |          | 0/? [00:00<?, ?it/s]",
      "application/vnd.jupyter.widget-view+json": {
       "version_major": 2,
       "version_minor": 0,
       "model_id": "c3cc385c5eb7490cae43ac1a8603f35f"
      }
     },
     "metadata": {},
     "output_type": "display_data"
    },
    {
     "name": "stderr",
     "output_type": "stream",
     "text": [
      "`Trainer.fit` stopped: `max_epochs=50` reached.\n"
     ]
    },
    {
     "data": {
      "text/plain": "Testing: |          | 0/? [00:00<?, ?it/s]",
      "application/vnd.jupyter.widget-view+json": {
       "version_major": 2,
       "version_minor": 0,
       "model_id": "691859906d5044359271a3b178252e2e"
      }
     },
     "metadata": {},
     "output_type": "display_data"
    },
    {
     "name": "stderr",
     "output_type": "stream",
     "text": [
      "GPU available: True (mps), used: False\n",
      "TPU available: False, using: 0 TPU cores\n",
      "IPU available: False, using: 0 IPUs\n",
      "HPU available: False, using: 0 HPUs\n"
     ]
    },
    {
     "name": "stdout",
     "output_type": "stream",
     "text": [
      "────────────────────────────────────────────────────────────────────────────────────────────────────────────────────────\n",
      "       Test metric             DataLoader 0\n",
      "────────────────────────────────────────────────────────────────────────────────────────────────────────────────────────\n",
      "     test/objective         -34.42524719238281\n",
      "────────────────────────────────────────────────────────────────────────────────────────────────────────────────────────\n",
      "DCCA for layer: 14\n"
     ]
    },
    {
     "data": {
      "text/plain": "Training: |          | 0/? [00:00<?, ?it/s]",
      "application/vnd.jupyter.widget-view+json": {
       "version_major": 2,
       "version_minor": 0,
       "model_id": "e242639eeb00448fac0ea994739cea7b"
      }
     },
     "metadata": {},
     "output_type": "display_data"
    },
    {
     "name": "stderr",
     "output_type": "stream",
     "text": [
      "`Trainer.fit` stopped: `max_epochs=50` reached.\n"
     ]
    },
    {
     "data": {
      "text/plain": "Testing: |          | 0/? [00:00<?, ?it/s]",
      "application/vnd.jupyter.widget-view+json": {
       "version_major": 2,
       "version_minor": 0,
       "model_id": "88a58d3a444d409f933efd1d36376013"
      }
     },
     "metadata": {},
     "output_type": "display_data"
    },
    {
     "name": "stderr",
     "output_type": "stream",
     "text": [
      "GPU available: True (mps), used: False\n",
      "TPU available: False, using: 0 TPU cores\n",
      "IPU available: False, using: 0 IPUs\n",
      "HPU available: False, using: 0 HPUs\n"
     ]
    },
    {
     "name": "stdout",
     "output_type": "stream",
     "text": [
      "────────────────────────────────────────────────────────────────────────────────────────────────────────────────────────\n",
      "       Test metric             DataLoader 0\n",
      "────────────────────────────────────────────────────────────────────────────────────────────────────────────────────────\n",
      "     test/objective         -34.39218521118164\n",
      "────────────────────────────────────────────────────────────────────────────────────────────────────────────────────────\n",
      "DCCA for layer: 15\n"
     ]
    },
    {
     "data": {
      "text/plain": "Training: |          | 0/? [00:00<?, ?it/s]",
      "application/vnd.jupyter.widget-view+json": {
       "version_major": 2,
       "version_minor": 0,
       "model_id": "f09bf5723ff6496faa08577d508ed31b"
      }
     },
     "metadata": {},
     "output_type": "display_data"
    },
    {
     "name": "stderr",
     "output_type": "stream",
     "text": [
      "`Trainer.fit` stopped: `max_epochs=50` reached.\n"
     ]
    },
    {
     "data": {
      "text/plain": "Testing: |          | 0/? [00:00<?, ?it/s]",
      "application/vnd.jupyter.widget-view+json": {
       "version_major": 2,
       "version_minor": 0,
       "model_id": "56786d98cbf946e19e611229dc7b3332"
      }
     },
     "metadata": {},
     "output_type": "display_data"
    },
    {
     "name": "stderr",
     "output_type": "stream",
     "text": [
      "GPU available: True (mps), used: False\n",
      "TPU available: False, using: 0 TPU cores\n",
      "IPU available: False, using: 0 IPUs\n",
      "HPU available: False, using: 0 HPUs\n"
     ]
    },
    {
     "name": "stdout",
     "output_type": "stream",
     "text": [
      "────────────────────────────────────────────────────────────────────────────────────────────────────────────────────────\n",
      "       Test metric             DataLoader 0\n",
      "────────────────────────────────────────────────────────────────────────────────────────────────────────────────────────\n",
      "     test/objective         -34.283668518066406\n",
      "────────────────────────────────────────────────────────────────────────────────────────────────────────────────────────\n",
      "DCCA for layer: 16\n"
     ]
    },
    {
     "data": {
      "text/plain": "Training: |          | 0/? [00:00<?, ?it/s]",
      "application/vnd.jupyter.widget-view+json": {
       "version_major": 2,
       "version_minor": 0,
       "model_id": "f00fe63e641b45f48610e3b65a533a2e"
      }
     },
     "metadata": {},
     "output_type": "display_data"
    },
    {
     "name": "stderr",
     "output_type": "stream",
     "text": [
      "`Trainer.fit` stopped: `max_epochs=50` reached.\n"
     ]
    },
    {
     "data": {
      "text/plain": "Testing: |          | 0/? [00:00<?, ?it/s]",
      "application/vnd.jupyter.widget-view+json": {
       "version_major": 2,
       "version_minor": 0,
       "model_id": "b78e718031be400ebca8dd75a004dca5"
      }
     },
     "metadata": {},
     "output_type": "display_data"
    },
    {
     "name": "stderr",
     "output_type": "stream",
     "text": [
      "GPU available: True (mps), used: False\n",
      "TPU available: False, using: 0 TPU cores\n",
      "IPU available: False, using: 0 IPUs\n",
      "HPU available: False, using: 0 HPUs\n"
     ]
    },
    {
     "name": "stdout",
     "output_type": "stream",
     "text": [
      "────────────────────────────────────────────────────────────────────────────────────────────────────────────────────────\n",
      "       Test metric             DataLoader 0\n",
      "────────────────────────────────────────────────────────────────────────────────────────────────────────────────────────\n",
      "     test/objective         -34.492557525634766\n",
      "────────────────────────────────────────────────────────────────────────────────────────────────────────────────────────\n",
      "DCCA for layer: 17\n"
     ]
    },
    {
     "data": {
      "text/plain": "Training: |          | 0/? [00:00<?, ?it/s]",
      "application/vnd.jupyter.widget-view+json": {
       "version_major": 2,
       "version_minor": 0,
       "model_id": "33790f1fd6334c03811f5c58c352a0f0"
      }
     },
     "metadata": {},
     "output_type": "display_data"
    },
    {
     "name": "stderr",
     "output_type": "stream",
     "text": [
      "`Trainer.fit` stopped: `max_epochs=50` reached.\n"
     ]
    },
    {
     "data": {
      "text/plain": "Testing: |          | 0/? [00:00<?, ?it/s]",
      "application/vnd.jupyter.widget-view+json": {
       "version_major": 2,
       "version_minor": 0,
       "model_id": "7386bf5a5bf149628c4316a4bb6672da"
      }
     },
     "metadata": {},
     "output_type": "display_data"
    },
    {
     "name": "stderr",
     "output_type": "stream",
     "text": [
      "GPU available: True (mps), used: False\n",
      "TPU available: False, using: 0 TPU cores\n",
      "IPU available: False, using: 0 IPUs\n",
      "HPU available: False, using: 0 HPUs\n"
     ]
    },
    {
     "name": "stdout",
     "output_type": "stream",
     "text": [
      "────────────────────────────────────────────────────────────────────────────────────────────────────────────────────────\n",
      "       Test metric             DataLoader 0\n",
      "────────────────────────────────────────────────────────────────────────────────────────────────────────────────────────\n",
      "     test/objective         -34.70820999145508\n",
      "────────────────────────────────────────────────────────────────────────────────────────────────────────────────────────\n",
      "DCCA for layer: 18\n"
     ]
    },
    {
     "data": {
      "text/plain": "Training: |          | 0/? [00:00<?, ?it/s]",
      "application/vnd.jupyter.widget-view+json": {
       "version_major": 2,
       "version_minor": 0,
       "model_id": "da0f8cf4a88a46a097cf65165442a84d"
      }
     },
     "metadata": {},
     "output_type": "display_data"
    },
    {
     "name": "stderr",
     "output_type": "stream",
     "text": [
      "`Trainer.fit` stopped: `max_epochs=50` reached.\n"
     ]
    },
    {
     "data": {
      "text/plain": "Testing: |          | 0/? [00:00<?, ?it/s]",
      "application/vnd.jupyter.widget-view+json": {
       "version_major": 2,
       "version_minor": 0,
       "model_id": "abbc8d338a63404c943049cfd84050b2"
      }
     },
     "metadata": {},
     "output_type": "display_data"
    },
    {
     "name": "stderr",
     "output_type": "stream",
     "text": [
      "GPU available: True (mps), used: False\n",
      "TPU available: False, using: 0 TPU cores\n",
      "IPU available: False, using: 0 IPUs\n",
      "HPU available: False, using: 0 HPUs\n"
     ]
    },
    {
     "name": "stdout",
     "output_type": "stream",
     "text": [
      "────────────────────────────────────────────────────────────────────────────────────────────────────────────────────────\n",
      "       Test metric             DataLoader 0\n",
      "────────────────────────────────────────────────────────────────────────────────────────────────────────────────────────\n",
      "     test/objective         -34.701499938964844\n",
      "────────────────────────────────────────────────────────────────────────────────────────────────────────────────────────\n",
      "DCCA for layer: 19\n"
     ]
    },
    {
     "data": {
      "text/plain": "Training: |          | 0/? [00:00<?, ?it/s]",
      "application/vnd.jupyter.widget-view+json": {
       "version_major": 2,
       "version_minor": 0,
       "model_id": "5447955d0e214e9ba7faeaae034e7da7"
      }
     },
     "metadata": {},
     "output_type": "display_data"
    },
    {
     "name": "stderr",
     "output_type": "stream",
     "text": [
      "`Trainer.fit` stopped: `max_epochs=50` reached.\n"
     ]
    },
    {
     "data": {
      "text/plain": "Testing: |          | 0/? [00:00<?, ?it/s]",
      "application/vnd.jupyter.widget-view+json": {
       "version_major": 2,
       "version_minor": 0,
       "model_id": "60e0854b61934bdfb7b96789b1a3d21b"
      }
     },
     "metadata": {},
     "output_type": "display_data"
    },
    {
     "name": "stderr",
     "output_type": "stream",
     "text": [
      "GPU available: True (mps), used: False\n",
      "TPU available: False, using: 0 TPU cores\n",
      "IPU available: False, using: 0 IPUs\n",
      "HPU available: False, using: 0 HPUs\n"
     ]
    },
    {
     "name": "stdout",
     "output_type": "stream",
     "text": [
      "────────────────────────────────────────────────────────────────────────────────────────────────────────────────────────\n",
      "       Test metric             DataLoader 0\n",
      "────────────────────────────────────────────────────────────────────────────────────────────────────────────────────────\n",
      "     test/objective         -34.682823181152344\n",
      "────────────────────────────────────────────────────────────────────────────────────────────────────────────────────────\n",
      "DCCA for layer: 20\n"
     ]
    },
    {
     "data": {
      "text/plain": "Training: |          | 0/? [00:00<?, ?it/s]",
      "application/vnd.jupyter.widget-view+json": {
       "version_major": 2,
       "version_minor": 0,
       "model_id": "2cfd1b74211a441cb257fd6138f1086e"
      }
     },
     "metadata": {},
     "output_type": "display_data"
    },
    {
     "ename": "_LinAlgError",
     "evalue": "linalg.svd: The algorithm failed to converge because the input matrix is ill-conditioned or has too many repeated singular values (error code: 23).",
     "output_type": "error",
     "traceback": [
      "\u001B[0;31m---------------------------------------------------------------------------\u001B[0m",
      "\u001B[0;31m_LinAlgError\u001B[0m                              Traceback (most recent call last)",
      "Cell \u001B[0;32mIn[12], line 1\u001B[0m\n\u001B[0;32m----> 1\u001B[0m plot_all_dcca_values(first_dirpath, second_dirpath, layer_numbers)\n",
      "Cell \u001B[0;32mIn[7], line 39\u001B[0m, in \u001B[0;36mplot_all_dcca_values\u001B[0;34m(dirpath1, dirpath2, layers)\u001B[0m\n\u001B[1;32m     31\u001B[0m epochs \u001B[38;5;241m=\u001B[39m \u001B[38;5;241m50\u001B[39m\n\u001B[1;32m     32\u001B[0m trainer \u001B[38;5;241m=\u001B[39m pl\u001B[38;5;241m.\u001B[39mTrainer(\n\u001B[1;32m     33\u001B[0m     accelerator\u001B[38;5;241m=\u001B[39m\u001B[38;5;124m\"\u001B[39m\u001B[38;5;124mcpu\u001B[39m\u001B[38;5;124m\"\u001B[39m,\n\u001B[1;32m     34\u001B[0m     max_epochs\u001B[38;5;241m=\u001B[39mepochs,\n\u001B[0;32m   (...)\u001B[0m\n\u001B[1;32m     37\u001B[0m     enable_progress_bar\u001B[38;5;241m=\u001B[39m\u001B[38;5;28;01mTrue\u001B[39;00m,\n\u001B[1;32m     38\u001B[0m )\n\u001B[0;32m---> 39\u001B[0m trainer\u001B[38;5;241m.\u001B[39mfit(dcca_model, train_dataloaders\u001B[38;5;241m=\u001B[39mtrain_loader)\n\u001B[1;32m     40\u001B[0m trainer\u001B[38;5;241m.\u001B[39mtest(dcca_model, dataloaders\u001B[38;5;241m=\u001B[39mval_loader)\n\u001B[1;32m     41\u001B[0m layer_dcca_list\u001B[38;5;241m.\u001B[39mappend(dcca_model)\n",
      "File \u001B[0;32m/opt/miniconda3/envs/sparenv/lib/python3.11/site-packages/pytorch_lightning/trainer/trainer.py:544\u001B[0m, in \u001B[0;36mTrainer.fit\u001B[0;34m(self, model, train_dataloaders, val_dataloaders, datamodule, ckpt_path)\u001B[0m\n\u001B[1;32m    542\u001B[0m \u001B[38;5;28mself\u001B[39m\u001B[38;5;241m.\u001B[39mstate\u001B[38;5;241m.\u001B[39mstatus \u001B[38;5;241m=\u001B[39m TrainerStatus\u001B[38;5;241m.\u001B[39mRUNNING\n\u001B[1;32m    543\u001B[0m \u001B[38;5;28mself\u001B[39m\u001B[38;5;241m.\u001B[39mtraining \u001B[38;5;241m=\u001B[39m \u001B[38;5;28;01mTrue\u001B[39;00m\n\u001B[0;32m--> 544\u001B[0m call\u001B[38;5;241m.\u001B[39m_call_and_handle_interrupt(\n\u001B[1;32m    545\u001B[0m     \u001B[38;5;28mself\u001B[39m, \u001B[38;5;28mself\u001B[39m\u001B[38;5;241m.\u001B[39m_fit_impl, model, train_dataloaders, val_dataloaders, datamodule, ckpt_path\n\u001B[1;32m    546\u001B[0m )\n",
      "File \u001B[0;32m/opt/miniconda3/envs/sparenv/lib/python3.11/site-packages/pytorch_lightning/trainer/call.py:44\u001B[0m, in \u001B[0;36m_call_and_handle_interrupt\u001B[0;34m(trainer, trainer_fn, *args, **kwargs)\u001B[0m\n\u001B[1;32m     42\u001B[0m     \u001B[38;5;28;01mif\u001B[39;00m trainer\u001B[38;5;241m.\u001B[39mstrategy\u001B[38;5;241m.\u001B[39mlauncher \u001B[38;5;129;01mis\u001B[39;00m \u001B[38;5;129;01mnot\u001B[39;00m \u001B[38;5;28;01mNone\u001B[39;00m:\n\u001B[1;32m     43\u001B[0m         \u001B[38;5;28;01mreturn\u001B[39;00m trainer\u001B[38;5;241m.\u001B[39mstrategy\u001B[38;5;241m.\u001B[39mlauncher\u001B[38;5;241m.\u001B[39mlaunch(trainer_fn, \u001B[38;5;241m*\u001B[39margs, trainer\u001B[38;5;241m=\u001B[39mtrainer, \u001B[38;5;241m*\u001B[39m\u001B[38;5;241m*\u001B[39mkwargs)\n\u001B[0;32m---> 44\u001B[0m     \u001B[38;5;28;01mreturn\u001B[39;00m trainer_fn(\u001B[38;5;241m*\u001B[39margs, \u001B[38;5;241m*\u001B[39m\u001B[38;5;241m*\u001B[39mkwargs)\n\u001B[1;32m     46\u001B[0m \u001B[38;5;28;01mexcept\u001B[39;00m _TunerExitException:\n\u001B[1;32m     47\u001B[0m     _call_teardown_hook(trainer)\n",
      "File \u001B[0;32m/opt/miniconda3/envs/sparenv/lib/python3.11/site-packages/pytorch_lightning/trainer/trainer.py:580\u001B[0m, in \u001B[0;36mTrainer._fit_impl\u001B[0;34m(self, model, train_dataloaders, val_dataloaders, datamodule, ckpt_path)\u001B[0m\n\u001B[1;32m    573\u001B[0m \u001B[38;5;28;01massert\u001B[39;00m \u001B[38;5;28mself\u001B[39m\u001B[38;5;241m.\u001B[39mstate\u001B[38;5;241m.\u001B[39mfn \u001B[38;5;129;01mis\u001B[39;00m \u001B[38;5;129;01mnot\u001B[39;00m \u001B[38;5;28;01mNone\u001B[39;00m\n\u001B[1;32m    574\u001B[0m ckpt_path \u001B[38;5;241m=\u001B[39m \u001B[38;5;28mself\u001B[39m\u001B[38;5;241m.\u001B[39m_checkpoint_connector\u001B[38;5;241m.\u001B[39m_select_ckpt_path(\n\u001B[1;32m    575\u001B[0m     \u001B[38;5;28mself\u001B[39m\u001B[38;5;241m.\u001B[39mstate\u001B[38;5;241m.\u001B[39mfn,\n\u001B[1;32m    576\u001B[0m     ckpt_path,\n\u001B[1;32m    577\u001B[0m     model_provided\u001B[38;5;241m=\u001B[39m\u001B[38;5;28;01mTrue\u001B[39;00m,\n\u001B[1;32m    578\u001B[0m     model_connected\u001B[38;5;241m=\u001B[39m\u001B[38;5;28mself\u001B[39m\u001B[38;5;241m.\u001B[39mlightning_module \u001B[38;5;129;01mis\u001B[39;00m \u001B[38;5;129;01mnot\u001B[39;00m \u001B[38;5;28;01mNone\u001B[39;00m,\n\u001B[1;32m    579\u001B[0m )\n\u001B[0;32m--> 580\u001B[0m \u001B[38;5;28mself\u001B[39m\u001B[38;5;241m.\u001B[39m_run(model, ckpt_path\u001B[38;5;241m=\u001B[39mckpt_path)\n\u001B[1;32m    582\u001B[0m \u001B[38;5;28;01massert\u001B[39;00m \u001B[38;5;28mself\u001B[39m\u001B[38;5;241m.\u001B[39mstate\u001B[38;5;241m.\u001B[39mstopped\n\u001B[1;32m    583\u001B[0m \u001B[38;5;28mself\u001B[39m\u001B[38;5;241m.\u001B[39mtraining \u001B[38;5;241m=\u001B[39m \u001B[38;5;28;01mFalse\u001B[39;00m\n",
      "File \u001B[0;32m/opt/miniconda3/envs/sparenv/lib/python3.11/site-packages/pytorch_lightning/trainer/trainer.py:990\u001B[0m, in \u001B[0;36mTrainer._run\u001B[0;34m(self, model, ckpt_path)\u001B[0m\n\u001B[1;32m    985\u001B[0m \u001B[38;5;28mself\u001B[39m\u001B[38;5;241m.\u001B[39m_signal_connector\u001B[38;5;241m.\u001B[39mregister_signal_handlers()\n\u001B[1;32m    987\u001B[0m \u001B[38;5;66;03m# ----------------------------\u001B[39;00m\n\u001B[1;32m    988\u001B[0m \u001B[38;5;66;03m# RUN THE TRAINER\u001B[39;00m\n\u001B[1;32m    989\u001B[0m \u001B[38;5;66;03m# ----------------------------\u001B[39;00m\n\u001B[0;32m--> 990\u001B[0m results \u001B[38;5;241m=\u001B[39m \u001B[38;5;28mself\u001B[39m\u001B[38;5;241m.\u001B[39m_run_stage()\n\u001B[1;32m    992\u001B[0m \u001B[38;5;66;03m# ----------------------------\u001B[39;00m\n\u001B[1;32m    993\u001B[0m \u001B[38;5;66;03m# POST-Training CLEAN UP\u001B[39;00m\n\u001B[1;32m    994\u001B[0m \u001B[38;5;66;03m# ----------------------------\u001B[39;00m\n\u001B[1;32m    995\u001B[0m log\u001B[38;5;241m.\u001B[39mdebug(\u001B[38;5;124mf\u001B[39m\u001B[38;5;124m\"\u001B[39m\u001B[38;5;132;01m{\u001B[39;00m\u001B[38;5;28mself\u001B[39m\u001B[38;5;241m.\u001B[39m\u001B[38;5;18m__class__\u001B[39m\u001B[38;5;241m.\u001B[39m\u001B[38;5;18m__name__\u001B[39m\u001B[38;5;132;01m}\u001B[39;00m\u001B[38;5;124m: trainer tearing down\u001B[39m\u001B[38;5;124m\"\u001B[39m)\n",
      "File \u001B[0;32m/opt/miniconda3/envs/sparenv/lib/python3.11/site-packages/pytorch_lightning/trainer/trainer.py:1036\u001B[0m, in \u001B[0;36mTrainer._run_stage\u001B[0;34m(self)\u001B[0m\n\u001B[1;32m   1034\u001B[0m         \u001B[38;5;28mself\u001B[39m\u001B[38;5;241m.\u001B[39m_run_sanity_check()\n\u001B[1;32m   1035\u001B[0m     \u001B[38;5;28;01mwith\u001B[39;00m torch\u001B[38;5;241m.\u001B[39mautograd\u001B[38;5;241m.\u001B[39mset_detect_anomaly(\u001B[38;5;28mself\u001B[39m\u001B[38;5;241m.\u001B[39m_detect_anomaly):\n\u001B[0;32m-> 1036\u001B[0m         \u001B[38;5;28mself\u001B[39m\u001B[38;5;241m.\u001B[39mfit_loop\u001B[38;5;241m.\u001B[39mrun()\n\u001B[1;32m   1037\u001B[0m     \u001B[38;5;28;01mreturn\u001B[39;00m \u001B[38;5;28;01mNone\u001B[39;00m\n\u001B[1;32m   1038\u001B[0m \u001B[38;5;28;01mraise\u001B[39;00m \u001B[38;5;167;01mRuntimeError\u001B[39;00m(\u001B[38;5;124mf\u001B[39m\u001B[38;5;124m\"\u001B[39m\u001B[38;5;124mUnexpected state \u001B[39m\u001B[38;5;132;01m{\u001B[39;00m\u001B[38;5;28mself\u001B[39m\u001B[38;5;241m.\u001B[39mstate\u001B[38;5;132;01m}\u001B[39;00m\u001B[38;5;124m\"\u001B[39m)\n",
      "File \u001B[0;32m/opt/miniconda3/envs/sparenv/lib/python3.11/site-packages/pytorch_lightning/loops/fit_loop.py:202\u001B[0m, in \u001B[0;36m_FitLoop.run\u001B[0;34m(self)\u001B[0m\n\u001B[1;32m    200\u001B[0m \u001B[38;5;28;01mtry\u001B[39;00m:\n\u001B[1;32m    201\u001B[0m     \u001B[38;5;28mself\u001B[39m\u001B[38;5;241m.\u001B[39mon_advance_start()\n\u001B[0;32m--> 202\u001B[0m     \u001B[38;5;28mself\u001B[39m\u001B[38;5;241m.\u001B[39madvance()\n\u001B[1;32m    203\u001B[0m     \u001B[38;5;28mself\u001B[39m\u001B[38;5;241m.\u001B[39mon_advance_end()\n\u001B[1;32m    204\u001B[0m     \u001B[38;5;28mself\u001B[39m\u001B[38;5;241m.\u001B[39m_restarting \u001B[38;5;241m=\u001B[39m \u001B[38;5;28;01mFalse\u001B[39;00m\n",
      "File \u001B[0;32m/opt/miniconda3/envs/sparenv/lib/python3.11/site-packages/pytorch_lightning/loops/fit_loop.py:359\u001B[0m, in \u001B[0;36m_FitLoop.advance\u001B[0;34m(self)\u001B[0m\n\u001B[1;32m    357\u001B[0m \u001B[38;5;28;01mwith\u001B[39;00m \u001B[38;5;28mself\u001B[39m\u001B[38;5;241m.\u001B[39mtrainer\u001B[38;5;241m.\u001B[39mprofiler\u001B[38;5;241m.\u001B[39mprofile(\u001B[38;5;124m\"\u001B[39m\u001B[38;5;124mrun_training_epoch\u001B[39m\u001B[38;5;124m\"\u001B[39m):\n\u001B[1;32m    358\u001B[0m     \u001B[38;5;28;01massert\u001B[39;00m \u001B[38;5;28mself\u001B[39m\u001B[38;5;241m.\u001B[39m_data_fetcher \u001B[38;5;129;01mis\u001B[39;00m \u001B[38;5;129;01mnot\u001B[39;00m \u001B[38;5;28;01mNone\u001B[39;00m\n\u001B[0;32m--> 359\u001B[0m     \u001B[38;5;28mself\u001B[39m\u001B[38;5;241m.\u001B[39mepoch_loop\u001B[38;5;241m.\u001B[39mrun(\u001B[38;5;28mself\u001B[39m\u001B[38;5;241m.\u001B[39m_data_fetcher)\n",
      "File \u001B[0;32m/opt/miniconda3/envs/sparenv/lib/python3.11/site-packages/pytorch_lightning/loops/training_epoch_loop.py:136\u001B[0m, in \u001B[0;36m_TrainingEpochLoop.run\u001B[0;34m(self, data_fetcher)\u001B[0m\n\u001B[1;32m    134\u001B[0m \u001B[38;5;28;01mwhile\u001B[39;00m \u001B[38;5;129;01mnot\u001B[39;00m \u001B[38;5;28mself\u001B[39m\u001B[38;5;241m.\u001B[39mdone:\n\u001B[1;32m    135\u001B[0m     \u001B[38;5;28;01mtry\u001B[39;00m:\n\u001B[0;32m--> 136\u001B[0m         \u001B[38;5;28mself\u001B[39m\u001B[38;5;241m.\u001B[39madvance(data_fetcher)\n\u001B[1;32m    137\u001B[0m         \u001B[38;5;28mself\u001B[39m\u001B[38;5;241m.\u001B[39mon_advance_end(data_fetcher)\n\u001B[1;32m    138\u001B[0m         \u001B[38;5;28mself\u001B[39m\u001B[38;5;241m.\u001B[39m_restarting \u001B[38;5;241m=\u001B[39m \u001B[38;5;28;01mFalse\u001B[39;00m\n",
      "File \u001B[0;32m/opt/miniconda3/envs/sparenv/lib/python3.11/site-packages/pytorch_lightning/loops/training_epoch_loop.py:240\u001B[0m, in \u001B[0;36m_TrainingEpochLoop.advance\u001B[0;34m(self, data_fetcher)\u001B[0m\n\u001B[1;32m    237\u001B[0m \u001B[38;5;28;01mwith\u001B[39;00m trainer\u001B[38;5;241m.\u001B[39mprofiler\u001B[38;5;241m.\u001B[39mprofile(\u001B[38;5;124m\"\u001B[39m\u001B[38;5;124mrun_training_batch\u001B[39m\u001B[38;5;124m\"\u001B[39m):\n\u001B[1;32m    238\u001B[0m     \u001B[38;5;28;01mif\u001B[39;00m trainer\u001B[38;5;241m.\u001B[39mlightning_module\u001B[38;5;241m.\u001B[39mautomatic_optimization:\n\u001B[1;32m    239\u001B[0m         \u001B[38;5;66;03m# in automatic optimization, there can only be one optimizer\u001B[39;00m\n\u001B[0;32m--> 240\u001B[0m         batch_output \u001B[38;5;241m=\u001B[39m \u001B[38;5;28mself\u001B[39m\u001B[38;5;241m.\u001B[39mautomatic_optimization\u001B[38;5;241m.\u001B[39mrun(trainer\u001B[38;5;241m.\u001B[39moptimizers[\u001B[38;5;241m0\u001B[39m], batch_idx, kwargs)\n\u001B[1;32m    241\u001B[0m     \u001B[38;5;28;01melse\u001B[39;00m:\n\u001B[1;32m    242\u001B[0m         batch_output \u001B[38;5;241m=\u001B[39m \u001B[38;5;28mself\u001B[39m\u001B[38;5;241m.\u001B[39mmanual_optimization\u001B[38;5;241m.\u001B[39mrun(kwargs)\n",
      "File \u001B[0;32m/opt/miniconda3/envs/sparenv/lib/python3.11/site-packages/pytorch_lightning/loops/optimization/automatic.py:187\u001B[0m, in \u001B[0;36m_AutomaticOptimization.run\u001B[0;34m(self, optimizer, batch_idx, kwargs)\u001B[0m\n\u001B[1;32m    180\u001B[0m         closure()\n\u001B[1;32m    182\u001B[0m \u001B[38;5;66;03m# ------------------------------\u001B[39;00m\n\u001B[1;32m    183\u001B[0m \u001B[38;5;66;03m# BACKWARD PASS\u001B[39;00m\n\u001B[1;32m    184\u001B[0m \u001B[38;5;66;03m# ------------------------------\u001B[39;00m\n\u001B[1;32m    185\u001B[0m \u001B[38;5;66;03m# gradient update with accumulated gradients\u001B[39;00m\n\u001B[1;32m    186\u001B[0m \u001B[38;5;28;01melse\u001B[39;00m:\n\u001B[0;32m--> 187\u001B[0m     \u001B[38;5;28mself\u001B[39m\u001B[38;5;241m.\u001B[39m_optimizer_step(batch_idx, closure)\n\u001B[1;32m    189\u001B[0m result \u001B[38;5;241m=\u001B[39m closure\u001B[38;5;241m.\u001B[39mconsume_result()\n\u001B[1;32m    190\u001B[0m \u001B[38;5;28;01mif\u001B[39;00m result\u001B[38;5;241m.\u001B[39mloss \u001B[38;5;129;01mis\u001B[39;00m \u001B[38;5;28;01mNone\u001B[39;00m:\n",
      "File \u001B[0;32m/opt/miniconda3/envs/sparenv/lib/python3.11/site-packages/pytorch_lightning/loops/optimization/automatic.py:265\u001B[0m, in \u001B[0;36m_AutomaticOptimization._optimizer_step\u001B[0;34m(self, batch_idx, train_step_and_backward_closure)\u001B[0m\n\u001B[1;32m    262\u001B[0m     \u001B[38;5;28mself\u001B[39m\u001B[38;5;241m.\u001B[39moptim_progress\u001B[38;5;241m.\u001B[39moptimizer\u001B[38;5;241m.\u001B[39mstep\u001B[38;5;241m.\u001B[39mincrement_ready()\n\u001B[1;32m    264\u001B[0m \u001B[38;5;66;03m# model hook\u001B[39;00m\n\u001B[0;32m--> 265\u001B[0m call\u001B[38;5;241m.\u001B[39m_call_lightning_module_hook(\n\u001B[1;32m    266\u001B[0m     trainer,\n\u001B[1;32m    267\u001B[0m     \u001B[38;5;124m\"\u001B[39m\u001B[38;5;124moptimizer_step\u001B[39m\u001B[38;5;124m\"\u001B[39m,\n\u001B[1;32m    268\u001B[0m     trainer\u001B[38;5;241m.\u001B[39mcurrent_epoch,\n\u001B[1;32m    269\u001B[0m     batch_idx,\n\u001B[1;32m    270\u001B[0m     optimizer,\n\u001B[1;32m    271\u001B[0m     train_step_and_backward_closure,\n\u001B[1;32m    272\u001B[0m )\n\u001B[1;32m    274\u001B[0m \u001B[38;5;28;01mif\u001B[39;00m \u001B[38;5;129;01mnot\u001B[39;00m should_accumulate:\n\u001B[1;32m    275\u001B[0m     \u001B[38;5;28mself\u001B[39m\u001B[38;5;241m.\u001B[39moptim_progress\u001B[38;5;241m.\u001B[39moptimizer\u001B[38;5;241m.\u001B[39mstep\u001B[38;5;241m.\u001B[39mincrement_completed()\n",
      "File \u001B[0;32m/opt/miniconda3/envs/sparenv/lib/python3.11/site-packages/pytorch_lightning/trainer/call.py:157\u001B[0m, in \u001B[0;36m_call_lightning_module_hook\u001B[0;34m(trainer, hook_name, pl_module, *args, **kwargs)\u001B[0m\n\u001B[1;32m    154\u001B[0m pl_module\u001B[38;5;241m.\u001B[39m_current_fx_name \u001B[38;5;241m=\u001B[39m hook_name\n\u001B[1;32m    156\u001B[0m \u001B[38;5;28;01mwith\u001B[39;00m trainer\u001B[38;5;241m.\u001B[39mprofiler\u001B[38;5;241m.\u001B[39mprofile(\u001B[38;5;124mf\u001B[39m\u001B[38;5;124m\"\u001B[39m\u001B[38;5;124m[LightningModule]\u001B[39m\u001B[38;5;132;01m{\u001B[39;00mpl_module\u001B[38;5;241m.\u001B[39m\u001B[38;5;18m__class__\u001B[39m\u001B[38;5;241m.\u001B[39m\u001B[38;5;18m__name__\u001B[39m\u001B[38;5;132;01m}\u001B[39;00m\u001B[38;5;124m.\u001B[39m\u001B[38;5;132;01m{\u001B[39;00mhook_name\u001B[38;5;132;01m}\u001B[39;00m\u001B[38;5;124m\"\u001B[39m):\n\u001B[0;32m--> 157\u001B[0m     output \u001B[38;5;241m=\u001B[39m fn(\u001B[38;5;241m*\u001B[39margs, \u001B[38;5;241m*\u001B[39m\u001B[38;5;241m*\u001B[39mkwargs)\n\u001B[1;32m    159\u001B[0m \u001B[38;5;66;03m# restore current_fx when nested context\u001B[39;00m\n\u001B[1;32m    160\u001B[0m pl_module\u001B[38;5;241m.\u001B[39m_current_fx_name \u001B[38;5;241m=\u001B[39m prev_fx_name\n",
      "File \u001B[0;32m/opt/miniconda3/envs/sparenv/lib/python3.11/site-packages/pytorch_lightning/core/module.py:1282\u001B[0m, in \u001B[0;36mLightningModule.optimizer_step\u001B[0;34m(self, epoch, batch_idx, optimizer, optimizer_closure)\u001B[0m\n\u001B[1;32m   1243\u001B[0m \u001B[38;5;28;01mdef\u001B[39;00m \u001B[38;5;21moptimizer_step\u001B[39m(\n\u001B[1;32m   1244\u001B[0m     \u001B[38;5;28mself\u001B[39m,\n\u001B[1;32m   1245\u001B[0m     epoch: \u001B[38;5;28mint\u001B[39m,\n\u001B[0;32m   (...)\u001B[0m\n\u001B[1;32m   1248\u001B[0m     optimizer_closure: Optional[Callable[[], Any]] \u001B[38;5;241m=\u001B[39m \u001B[38;5;28;01mNone\u001B[39;00m,\n\u001B[1;32m   1249\u001B[0m ) \u001B[38;5;241m-\u001B[39m\u001B[38;5;241m>\u001B[39m \u001B[38;5;28;01mNone\u001B[39;00m:\n\u001B[1;32m   1250\u001B[0m \u001B[38;5;250m    \u001B[39m\u001B[38;5;124mr\u001B[39m\u001B[38;5;124;03m\"\"\"Override this method to adjust the default way the :class:`~pytorch_lightning.trainer.trainer.Trainer` calls\u001B[39;00m\n\u001B[1;32m   1251\u001B[0m \u001B[38;5;124;03m    the optimizer.\u001B[39;00m\n\u001B[1;32m   1252\u001B[0m \n\u001B[0;32m   (...)\u001B[0m\n\u001B[1;32m   1280\u001B[0m \n\u001B[1;32m   1281\u001B[0m \u001B[38;5;124;03m    \"\"\"\u001B[39;00m\n\u001B[0;32m-> 1282\u001B[0m     optimizer\u001B[38;5;241m.\u001B[39mstep(closure\u001B[38;5;241m=\u001B[39moptimizer_closure)\n",
      "File \u001B[0;32m/opt/miniconda3/envs/sparenv/lib/python3.11/site-packages/pytorch_lightning/core/optimizer.py:151\u001B[0m, in \u001B[0;36mLightningOptimizer.step\u001B[0;34m(self, closure, **kwargs)\u001B[0m\n\u001B[1;32m    148\u001B[0m     \u001B[38;5;28;01mraise\u001B[39;00m MisconfigurationException(\u001B[38;5;124m\"\u001B[39m\u001B[38;5;124mWhen `optimizer.step(closure)` is called, the closure should be callable\u001B[39m\u001B[38;5;124m\"\u001B[39m)\n\u001B[1;32m    150\u001B[0m \u001B[38;5;28;01massert\u001B[39;00m \u001B[38;5;28mself\u001B[39m\u001B[38;5;241m.\u001B[39m_strategy \u001B[38;5;129;01mis\u001B[39;00m \u001B[38;5;129;01mnot\u001B[39;00m \u001B[38;5;28;01mNone\u001B[39;00m\n\u001B[0;32m--> 151\u001B[0m step_output \u001B[38;5;241m=\u001B[39m \u001B[38;5;28mself\u001B[39m\u001B[38;5;241m.\u001B[39m_strategy\u001B[38;5;241m.\u001B[39moptimizer_step(\u001B[38;5;28mself\u001B[39m\u001B[38;5;241m.\u001B[39m_optimizer, closure, \u001B[38;5;241m*\u001B[39m\u001B[38;5;241m*\u001B[39mkwargs)\n\u001B[1;32m    153\u001B[0m \u001B[38;5;28mself\u001B[39m\u001B[38;5;241m.\u001B[39m_on_after_step()\n\u001B[1;32m    155\u001B[0m \u001B[38;5;28;01mreturn\u001B[39;00m step_output\n",
      "File \u001B[0;32m/opt/miniconda3/envs/sparenv/lib/python3.11/site-packages/pytorch_lightning/strategies/strategy.py:230\u001B[0m, in \u001B[0;36mStrategy.optimizer_step\u001B[0;34m(self, optimizer, closure, model, **kwargs)\u001B[0m\n\u001B[1;32m    228\u001B[0m \u001B[38;5;66;03m# TODO(fabric): remove assertion once strategy's optimizer_step typing is fixed\u001B[39;00m\n\u001B[1;32m    229\u001B[0m \u001B[38;5;28;01massert\u001B[39;00m \u001B[38;5;28misinstance\u001B[39m(model, pl\u001B[38;5;241m.\u001B[39mLightningModule)\n\u001B[0;32m--> 230\u001B[0m \u001B[38;5;28;01mreturn\u001B[39;00m \u001B[38;5;28mself\u001B[39m\u001B[38;5;241m.\u001B[39mprecision_plugin\u001B[38;5;241m.\u001B[39moptimizer_step(optimizer, model\u001B[38;5;241m=\u001B[39mmodel, closure\u001B[38;5;241m=\u001B[39mclosure, \u001B[38;5;241m*\u001B[39m\u001B[38;5;241m*\u001B[39mkwargs)\n",
      "File \u001B[0;32m/opt/miniconda3/envs/sparenv/lib/python3.11/site-packages/pytorch_lightning/plugins/precision/precision.py:117\u001B[0m, in \u001B[0;36mPrecision.optimizer_step\u001B[0;34m(self, optimizer, model, closure, **kwargs)\u001B[0m\n\u001B[1;32m    115\u001B[0m \u001B[38;5;250m\u001B[39m\u001B[38;5;124;03m\"\"\"Hook to run the optimizer step.\"\"\"\u001B[39;00m\n\u001B[1;32m    116\u001B[0m closure \u001B[38;5;241m=\u001B[39m partial(\u001B[38;5;28mself\u001B[39m\u001B[38;5;241m.\u001B[39m_wrap_closure, model, optimizer, closure)\n\u001B[0;32m--> 117\u001B[0m \u001B[38;5;28;01mreturn\u001B[39;00m optimizer\u001B[38;5;241m.\u001B[39mstep(closure\u001B[38;5;241m=\u001B[39mclosure, \u001B[38;5;241m*\u001B[39m\u001B[38;5;241m*\u001B[39mkwargs)\n",
      "File \u001B[0;32m/opt/miniconda3/envs/sparenv/lib/python3.11/site-packages/torch/optim/optimizer.py:373\u001B[0m, in \u001B[0;36mOptimizer.profile_hook_step.<locals>.wrapper\u001B[0;34m(*args, **kwargs)\u001B[0m\n\u001B[1;32m    368\u001B[0m         \u001B[38;5;28;01melse\u001B[39;00m:\n\u001B[1;32m    369\u001B[0m             \u001B[38;5;28;01mraise\u001B[39;00m \u001B[38;5;167;01mRuntimeError\u001B[39;00m(\n\u001B[1;32m    370\u001B[0m                 \u001B[38;5;124mf\u001B[39m\u001B[38;5;124m\"\u001B[39m\u001B[38;5;132;01m{\u001B[39;00mfunc\u001B[38;5;132;01m}\u001B[39;00m\u001B[38;5;124m must return None or a tuple of (new_args, new_kwargs), but got \u001B[39m\u001B[38;5;132;01m{\u001B[39;00mresult\u001B[38;5;132;01m}\u001B[39;00m\u001B[38;5;124m.\u001B[39m\u001B[38;5;124m\"\u001B[39m\n\u001B[1;32m    371\u001B[0m             )\n\u001B[0;32m--> 373\u001B[0m out \u001B[38;5;241m=\u001B[39m func(\u001B[38;5;241m*\u001B[39margs, \u001B[38;5;241m*\u001B[39m\u001B[38;5;241m*\u001B[39mkwargs)\n\u001B[1;32m    374\u001B[0m \u001B[38;5;28mself\u001B[39m\u001B[38;5;241m.\u001B[39m_optimizer_step_code()\n\u001B[1;32m    376\u001B[0m \u001B[38;5;66;03m# call optimizer step post hooks\u001B[39;00m\n",
      "File \u001B[0;32m/opt/miniconda3/envs/sparenv/lib/python3.11/site-packages/torch/optim/optimizer.py:76\u001B[0m, in \u001B[0;36m_use_grad_for_differentiable.<locals>._use_grad\u001B[0;34m(self, *args, **kwargs)\u001B[0m\n\u001B[1;32m     74\u001B[0m     torch\u001B[38;5;241m.\u001B[39mset_grad_enabled(\u001B[38;5;28mself\u001B[39m\u001B[38;5;241m.\u001B[39mdefaults[\u001B[38;5;124m'\u001B[39m\u001B[38;5;124mdifferentiable\u001B[39m\u001B[38;5;124m'\u001B[39m])\n\u001B[1;32m     75\u001B[0m     torch\u001B[38;5;241m.\u001B[39m_dynamo\u001B[38;5;241m.\u001B[39mgraph_break()\n\u001B[0;32m---> 76\u001B[0m     ret \u001B[38;5;241m=\u001B[39m func(\u001B[38;5;28mself\u001B[39m, \u001B[38;5;241m*\u001B[39margs, \u001B[38;5;241m*\u001B[39m\u001B[38;5;241m*\u001B[39mkwargs)\n\u001B[1;32m     77\u001B[0m \u001B[38;5;28;01mfinally\u001B[39;00m:\n\u001B[1;32m     78\u001B[0m     torch\u001B[38;5;241m.\u001B[39m_dynamo\u001B[38;5;241m.\u001B[39mgraph_break()\n",
      "File \u001B[0;32m/opt/miniconda3/envs/sparenv/lib/python3.11/site-packages/torch/optim/adam.py:143\u001B[0m, in \u001B[0;36mAdam.step\u001B[0;34m(self, closure)\u001B[0m\n\u001B[1;32m    141\u001B[0m \u001B[38;5;28;01mif\u001B[39;00m closure \u001B[38;5;129;01mis\u001B[39;00m \u001B[38;5;129;01mnot\u001B[39;00m \u001B[38;5;28;01mNone\u001B[39;00m:\n\u001B[1;32m    142\u001B[0m     \u001B[38;5;28;01mwith\u001B[39;00m torch\u001B[38;5;241m.\u001B[39menable_grad():\n\u001B[0;32m--> 143\u001B[0m         loss \u001B[38;5;241m=\u001B[39m closure()\n\u001B[1;32m    145\u001B[0m \u001B[38;5;28;01mfor\u001B[39;00m group \u001B[38;5;129;01min\u001B[39;00m \u001B[38;5;28mself\u001B[39m\u001B[38;5;241m.\u001B[39mparam_groups:\n\u001B[1;32m    146\u001B[0m     params_with_grad \u001B[38;5;241m=\u001B[39m []\n",
      "File \u001B[0;32m/opt/miniconda3/envs/sparenv/lib/python3.11/site-packages/pytorch_lightning/plugins/precision/precision.py:104\u001B[0m, in \u001B[0;36mPrecision._wrap_closure\u001B[0;34m(self, model, optimizer, closure)\u001B[0m\n\u001B[1;32m     91\u001B[0m \u001B[38;5;28;01mdef\u001B[39;00m \u001B[38;5;21m_wrap_closure\u001B[39m(\n\u001B[1;32m     92\u001B[0m     \u001B[38;5;28mself\u001B[39m,\n\u001B[1;32m     93\u001B[0m     model: \u001B[38;5;124m\"\u001B[39m\u001B[38;5;124mpl.LightningModule\u001B[39m\u001B[38;5;124m\"\u001B[39m,\n\u001B[1;32m     94\u001B[0m     optimizer: Optimizer,\n\u001B[1;32m     95\u001B[0m     closure: Callable[[], Any],\n\u001B[1;32m     96\u001B[0m ) \u001B[38;5;241m-\u001B[39m\u001B[38;5;241m>\u001B[39m Any:\n\u001B[1;32m     97\u001B[0m \u001B[38;5;250m    \u001B[39m\u001B[38;5;124;03m\"\"\"This double-closure allows makes sure the ``closure`` is executed before the ``on_before_optimizer_step``\u001B[39;00m\n\u001B[1;32m     98\u001B[0m \u001B[38;5;124;03m    hook is called.\u001B[39;00m\n\u001B[1;32m     99\u001B[0m \n\u001B[0;32m   (...)\u001B[0m\n\u001B[1;32m    102\u001B[0m \n\u001B[1;32m    103\u001B[0m \u001B[38;5;124;03m    \"\"\"\u001B[39;00m\n\u001B[0;32m--> 104\u001B[0m     closure_result \u001B[38;5;241m=\u001B[39m closure()\n\u001B[1;32m    105\u001B[0m     \u001B[38;5;28mself\u001B[39m\u001B[38;5;241m.\u001B[39m_after_closure(model, optimizer)\n\u001B[1;32m    106\u001B[0m     \u001B[38;5;28;01mreturn\u001B[39;00m closure_result\n",
      "File \u001B[0;32m/opt/miniconda3/envs/sparenv/lib/python3.11/site-packages/pytorch_lightning/loops/optimization/automatic.py:140\u001B[0m, in \u001B[0;36mClosure.__call__\u001B[0;34m(self, *args, **kwargs)\u001B[0m\n\u001B[1;32m    139\u001B[0m \u001B[38;5;28;01mdef\u001B[39;00m \u001B[38;5;21m__call__\u001B[39m(\u001B[38;5;28mself\u001B[39m, \u001B[38;5;241m*\u001B[39margs: Any, \u001B[38;5;241m*\u001B[39m\u001B[38;5;241m*\u001B[39mkwargs: Any) \u001B[38;5;241m-\u001B[39m\u001B[38;5;241m>\u001B[39m Optional[Tensor]:\n\u001B[0;32m--> 140\u001B[0m     \u001B[38;5;28mself\u001B[39m\u001B[38;5;241m.\u001B[39m_result \u001B[38;5;241m=\u001B[39m \u001B[38;5;28mself\u001B[39m\u001B[38;5;241m.\u001B[39mclosure(\u001B[38;5;241m*\u001B[39margs, \u001B[38;5;241m*\u001B[39m\u001B[38;5;241m*\u001B[39mkwargs)\n\u001B[1;32m    141\u001B[0m     \u001B[38;5;28;01mreturn\u001B[39;00m \u001B[38;5;28mself\u001B[39m\u001B[38;5;241m.\u001B[39m_result\u001B[38;5;241m.\u001B[39mloss\n",
      "File \u001B[0;32m/opt/miniconda3/envs/sparenv/lib/python3.11/site-packages/torch/utils/_contextlib.py:115\u001B[0m, in \u001B[0;36mcontext_decorator.<locals>.decorate_context\u001B[0;34m(*args, **kwargs)\u001B[0m\n\u001B[1;32m    112\u001B[0m \u001B[38;5;129m@functools\u001B[39m\u001B[38;5;241m.\u001B[39mwraps(func)\n\u001B[1;32m    113\u001B[0m \u001B[38;5;28;01mdef\u001B[39;00m \u001B[38;5;21mdecorate_context\u001B[39m(\u001B[38;5;241m*\u001B[39margs, \u001B[38;5;241m*\u001B[39m\u001B[38;5;241m*\u001B[39mkwargs):\n\u001B[1;32m    114\u001B[0m     \u001B[38;5;28;01mwith\u001B[39;00m ctx_factory():\n\u001B[0;32m--> 115\u001B[0m         \u001B[38;5;28;01mreturn\u001B[39;00m func(\u001B[38;5;241m*\u001B[39margs, \u001B[38;5;241m*\u001B[39m\u001B[38;5;241m*\u001B[39mkwargs)\n",
      "File \u001B[0;32m/opt/miniconda3/envs/sparenv/lib/python3.11/site-packages/pytorch_lightning/loops/optimization/automatic.py:126\u001B[0m, in \u001B[0;36mClosure.closure\u001B[0;34m(self, *args, **kwargs)\u001B[0m\n\u001B[1;32m    124\u001B[0m \u001B[38;5;129m@torch\u001B[39m\u001B[38;5;241m.\u001B[39menable_grad()\n\u001B[1;32m    125\u001B[0m \u001B[38;5;28;01mdef\u001B[39;00m \u001B[38;5;21mclosure\u001B[39m(\u001B[38;5;28mself\u001B[39m, \u001B[38;5;241m*\u001B[39margs: Any, \u001B[38;5;241m*\u001B[39m\u001B[38;5;241m*\u001B[39mkwargs: Any) \u001B[38;5;241m-\u001B[39m\u001B[38;5;241m>\u001B[39m ClosureResult:\n\u001B[0;32m--> 126\u001B[0m     step_output \u001B[38;5;241m=\u001B[39m \u001B[38;5;28mself\u001B[39m\u001B[38;5;241m.\u001B[39m_step_fn()\n\u001B[1;32m    128\u001B[0m     \u001B[38;5;28;01mif\u001B[39;00m step_output\u001B[38;5;241m.\u001B[39mclosure_loss \u001B[38;5;129;01mis\u001B[39;00m \u001B[38;5;28;01mNone\u001B[39;00m:\n\u001B[1;32m    129\u001B[0m         \u001B[38;5;28mself\u001B[39m\u001B[38;5;241m.\u001B[39mwarning_cache\u001B[38;5;241m.\u001B[39mwarn(\u001B[38;5;124m\"\u001B[39m\u001B[38;5;124m`training_step` returned `None`. If this was on purpose, ignore this warning...\u001B[39m\u001B[38;5;124m\"\u001B[39m)\n",
      "File \u001B[0;32m/opt/miniconda3/envs/sparenv/lib/python3.11/site-packages/pytorch_lightning/loops/optimization/automatic.py:315\u001B[0m, in \u001B[0;36m_AutomaticOptimization._training_step\u001B[0;34m(self, kwargs)\u001B[0m\n\u001B[1;32m    312\u001B[0m trainer \u001B[38;5;241m=\u001B[39m \u001B[38;5;28mself\u001B[39m\u001B[38;5;241m.\u001B[39mtrainer\n\u001B[1;32m    314\u001B[0m \u001B[38;5;66;03m# manually capture logged metrics\u001B[39;00m\n\u001B[0;32m--> 315\u001B[0m training_step_output \u001B[38;5;241m=\u001B[39m call\u001B[38;5;241m.\u001B[39m_call_strategy_hook(trainer, \u001B[38;5;124m\"\u001B[39m\u001B[38;5;124mtraining_step\u001B[39m\u001B[38;5;124m\"\u001B[39m, \u001B[38;5;241m*\u001B[39mkwargs\u001B[38;5;241m.\u001B[39mvalues())\n\u001B[1;32m    316\u001B[0m \u001B[38;5;28mself\u001B[39m\u001B[38;5;241m.\u001B[39mtrainer\u001B[38;5;241m.\u001B[39mstrategy\u001B[38;5;241m.\u001B[39mpost_training_step()  \u001B[38;5;66;03m# unused hook - call anyway for backward compatibility\u001B[39;00m\n\u001B[1;32m    318\u001B[0m \u001B[38;5;28;01mreturn\u001B[39;00m \u001B[38;5;28mself\u001B[39m\u001B[38;5;241m.\u001B[39moutput_result_cls\u001B[38;5;241m.\u001B[39mfrom_training_step_output(training_step_output, trainer\u001B[38;5;241m.\u001B[39maccumulate_grad_batches)\n",
      "File \u001B[0;32m/opt/miniconda3/envs/sparenv/lib/python3.11/site-packages/pytorch_lightning/trainer/call.py:309\u001B[0m, in \u001B[0;36m_call_strategy_hook\u001B[0;34m(trainer, hook_name, *args, **kwargs)\u001B[0m\n\u001B[1;32m    306\u001B[0m     \u001B[38;5;28;01mreturn\u001B[39;00m \u001B[38;5;28;01mNone\u001B[39;00m\n\u001B[1;32m    308\u001B[0m \u001B[38;5;28;01mwith\u001B[39;00m trainer\u001B[38;5;241m.\u001B[39mprofiler\u001B[38;5;241m.\u001B[39mprofile(\u001B[38;5;124mf\u001B[39m\u001B[38;5;124m\"\u001B[39m\u001B[38;5;124m[Strategy]\u001B[39m\u001B[38;5;132;01m{\u001B[39;00mtrainer\u001B[38;5;241m.\u001B[39mstrategy\u001B[38;5;241m.\u001B[39m\u001B[38;5;18m__class__\u001B[39m\u001B[38;5;241m.\u001B[39m\u001B[38;5;18m__name__\u001B[39m\u001B[38;5;132;01m}\u001B[39;00m\u001B[38;5;124m.\u001B[39m\u001B[38;5;132;01m{\u001B[39;00mhook_name\u001B[38;5;132;01m}\u001B[39;00m\u001B[38;5;124m\"\u001B[39m):\n\u001B[0;32m--> 309\u001B[0m     output \u001B[38;5;241m=\u001B[39m fn(\u001B[38;5;241m*\u001B[39margs, \u001B[38;5;241m*\u001B[39m\u001B[38;5;241m*\u001B[39mkwargs)\n\u001B[1;32m    311\u001B[0m \u001B[38;5;66;03m# restore current_fx when nested context\u001B[39;00m\n\u001B[1;32m    312\u001B[0m pl_module\u001B[38;5;241m.\u001B[39m_current_fx_name \u001B[38;5;241m=\u001B[39m prev_fx_name\n",
      "File \u001B[0;32m/opt/miniconda3/envs/sparenv/lib/python3.11/site-packages/pytorch_lightning/strategies/strategy.py:382\u001B[0m, in \u001B[0;36mStrategy.training_step\u001B[0;34m(self, *args, **kwargs)\u001B[0m\n\u001B[1;32m    380\u001B[0m \u001B[38;5;28;01mif\u001B[39;00m \u001B[38;5;28mself\u001B[39m\u001B[38;5;241m.\u001B[39mmodel \u001B[38;5;241m!=\u001B[39m \u001B[38;5;28mself\u001B[39m\u001B[38;5;241m.\u001B[39mlightning_module:\n\u001B[1;32m    381\u001B[0m     \u001B[38;5;28;01mreturn\u001B[39;00m \u001B[38;5;28mself\u001B[39m\u001B[38;5;241m.\u001B[39m_forward_redirection(\u001B[38;5;28mself\u001B[39m\u001B[38;5;241m.\u001B[39mmodel, \u001B[38;5;28mself\u001B[39m\u001B[38;5;241m.\u001B[39mlightning_module, \u001B[38;5;124m\"\u001B[39m\u001B[38;5;124mtraining_step\u001B[39m\u001B[38;5;124m\"\u001B[39m, \u001B[38;5;241m*\u001B[39margs, \u001B[38;5;241m*\u001B[39m\u001B[38;5;241m*\u001B[39mkwargs)\n\u001B[0;32m--> 382\u001B[0m \u001B[38;5;28;01mreturn\u001B[39;00m \u001B[38;5;28mself\u001B[39m\u001B[38;5;241m.\u001B[39mlightning_module\u001B[38;5;241m.\u001B[39mtraining_step(\u001B[38;5;241m*\u001B[39margs, \u001B[38;5;241m*\u001B[39m\u001B[38;5;241m*\u001B[39mkwargs)\n",
      "File \u001B[0;32m/opt/miniconda3/envs/sparenv/lib/python3.11/site-packages/cca_zoo/deep/_base.py:58\u001B[0m, in \u001B[0;36mBaseDeep.training_step\u001B[0;34m(self, batch, batch_idx)\u001B[0m\n\u001B[1;32m     56\u001B[0m \u001B[38;5;28;01mdef\u001B[39;00m \u001B[38;5;21mtraining_step\u001B[39m(\u001B[38;5;28mself\u001B[39m, batch: Dict[\u001B[38;5;28mstr\u001B[39m, Any], batch_idx: \u001B[38;5;28mint\u001B[39m) \u001B[38;5;241m-\u001B[39m\u001B[38;5;241m>\u001B[39m torch\u001B[38;5;241m.\u001B[39mTensor:\n\u001B[1;32m     57\u001B[0m \u001B[38;5;250m    \u001B[39m\u001B[38;5;124;03m\"\"\"Performs one step of training on a batch of views.\"\"\"\u001B[39;00m\n\u001B[0;32m---> 58\u001B[0m     loss \u001B[38;5;241m=\u001B[39m \u001B[38;5;28mself\u001B[39m\u001B[38;5;241m.\u001B[39mloss(batch)\n\u001B[1;32m     59\u001B[0m     \u001B[38;5;28;01mfor\u001B[39;00m k, v \u001B[38;5;129;01min\u001B[39;00m loss\u001B[38;5;241m.\u001B[39mitems():\n\u001B[1;32m     60\u001B[0m         \u001B[38;5;66;03m# Use f-string instead of concatenation\u001B[39;00m\n\u001B[1;32m     61\u001B[0m         \u001B[38;5;28mself\u001B[39m\u001B[38;5;241m.\u001B[39mlog(\n\u001B[1;32m     62\u001B[0m             \u001B[38;5;124mf\u001B[39m\u001B[38;5;124m\"\u001B[39m\u001B[38;5;124mtrain/\u001B[39m\u001B[38;5;132;01m{\u001B[39;00mk\u001B[38;5;132;01m}\u001B[39;00m\u001B[38;5;124m\"\u001B[39m,\n\u001B[1;32m     63\u001B[0m             v,\n\u001B[0;32m   (...)\u001B[0m\n\u001B[1;32m     66\u001B[0m             batch_size\u001B[38;5;241m=\u001B[39mbatch[\u001B[38;5;124m\"\u001B[39m\u001B[38;5;124mviews\u001B[39m\u001B[38;5;124m\"\u001B[39m][\u001B[38;5;241m0\u001B[39m]\u001B[38;5;241m.\u001B[39mshape[\u001B[38;5;241m0\u001B[39m],\n\u001B[1;32m     67\u001B[0m         )\n",
      "File \u001B[0;32m/opt/miniconda3/envs/sparenv/lib/python3.11/site-packages/cca_zoo/deep/_discriminative/_dcca.py:45\u001B[0m, in \u001B[0;36mDCCA.loss\u001B[0;34m(self, batch, **kwargs)\u001B[0m\n\u001B[1;32m     43\u001B[0m \u001B[38;5;28;01mdef\u001B[39;00m \u001B[38;5;21mloss\u001B[39m(\u001B[38;5;28mself\u001B[39m, batch, \u001B[38;5;241m*\u001B[39m\u001B[38;5;241m*\u001B[39mkwargs):\n\u001B[1;32m     44\u001B[0m     z \u001B[38;5;241m=\u001B[39m \u001B[38;5;28mself\u001B[39m(batch[\u001B[38;5;124m\"\u001B[39m\u001B[38;5;124mviews\u001B[39m\u001B[38;5;124m\"\u001B[39m])\n\u001B[0;32m---> 45\u001B[0m     \u001B[38;5;28;01mreturn\u001B[39;00m {\u001B[38;5;124m\"\u001B[39m\u001B[38;5;124mobjective\u001B[39m\u001B[38;5;124m\"\u001B[39m: \u001B[38;5;28mself\u001B[39m\u001B[38;5;241m.\u001B[39mobjective\u001B[38;5;241m.\u001B[39mloss(z)}\n",
      "File \u001B[0;32m/opt/miniconda3/envs/sparenv/lib/python3.11/site-packages/cca_zoo/deep/objectives.py:71\u001B[0m, in \u001B[0;36mMCCA.loss\u001B[0;34m(self, views)\u001B[0m\n\u001B[1;32m     69\u001B[0m \u001B[38;5;28;01mdef\u001B[39;00m \u001B[38;5;21mloss\u001B[39m(\u001B[38;5;28mself\u001B[39m, views):\n\u001B[1;32m     70\u001B[0m \u001B[38;5;250m    \u001B[39m\u001B[38;5;124;03m\"\"\"Calculate loss.\"\"\"\u001B[39;00m\n\u001B[0;32m---> 71\u001B[0m     eigvals \u001B[38;5;241m=\u001B[39m \u001B[38;5;28mself\u001B[39m\u001B[38;5;241m.\u001B[39mcorrelation(views)\n\u001B[1;32m     72\u001B[0m     eigvals \u001B[38;5;241m=\u001B[39m torch\u001B[38;5;241m.\u001B[39mnn\u001B[38;5;241m.\u001B[39mLeakyReLU()(eigvals[torch\u001B[38;5;241m.\u001B[39mgt(eigvals, \u001B[38;5;241m0\u001B[39m)])\n\u001B[1;32m     73\u001B[0m     corr \u001B[38;5;241m=\u001B[39m eigvals\u001B[38;5;241m.\u001B[39msum()\n",
      "File \u001B[0;32m/opt/miniconda3/envs/sparenv/lib/python3.11/site-packages/cca_zoo/deep/objectives.py:62\u001B[0m, in \u001B[0;36mMCCA.correlation\u001B[0;34m(self, views)\u001B[0m\n\u001B[1;32m     60\u001B[0m D \u001B[38;5;241m=\u001B[39m \u001B[38;5;28mself\u001B[39m\u001B[38;5;241m.\u001B[39mD(views)\n\u001B[1;32m     61\u001B[0m C \u001B[38;5;241m+\u001B[39m\u001B[38;5;241m=\u001B[39m D\n\u001B[0;32m---> 62\u001B[0m R \u001B[38;5;241m=\u001B[39m inv_sqrtm(D, \u001B[38;5;28mself\u001B[39m\u001B[38;5;241m.\u001B[39meps)\n\u001B[1;32m     63\u001B[0m C_whitened \u001B[38;5;241m=\u001B[39m R \u001B[38;5;241m@\u001B[39m C \u001B[38;5;241m@\u001B[39m R\u001B[38;5;241m.\u001B[39mT\n\u001B[1;32m     64\u001B[0m eigvals \u001B[38;5;241m=\u001B[39m torch\u001B[38;5;241m.\u001B[39mlinalg\u001B[38;5;241m.\u001B[39meigvalsh(C_whitened)\n",
      "File \u001B[0;32m/opt/miniconda3/envs/sparenv/lib/python3.11/site-packages/cca_zoo/deep/objectives.py:10\u001B[0m, in \u001B[0;36minv_sqrtm\u001B[0;34m(A, eps)\u001B[0m\n\u001B[1;32m      8\u001B[0m \u001B[38;5;250m\u001B[39m\u001B[38;5;124;03m\"\"\"Compute the inverse square-root of a positive definite matrix.\"\"\"\u001B[39;00m\n\u001B[1;32m      9\u001B[0m \u001B[38;5;66;03m# Perform eigendecomposition of covariance matrix\u001B[39;00m\n\u001B[0;32m---> 10\u001B[0m U, S, V \u001B[38;5;241m=\u001B[39m torch\u001B[38;5;241m.\u001B[39msvd(A)\n\u001B[1;32m     11\u001B[0m \u001B[38;5;66;03m# Enforce positive definite by taking a torch max() with eps\u001B[39;00m\n\u001B[1;32m     12\u001B[0m S \u001B[38;5;241m=\u001B[39m torch\u001B[38;5;241m.\u001B[39mmax(S, torch\u001B[38;5;241m.\u001B[39mtensor(eps, device\u001B[38;5;241m=\u001B[39mS\u001B[38;5;241m.\u001B[39mdevice))\n",
      "\u001B[0;31m_LinAlgError\u001B[0m: linalg.svd: The algorithm failed to converge because the input matrix is ill-conditioned or has too many repeated singular values (error code: 23)."
     ]
    }
   ],
   "source": [
    "plot_all_dcca_values(first_dirpath, second_dirpath, layer_numbers)"
   ],
   "metadata": {
    "collapsed": false,
    "ExecuteTime": {
     "end_time": "2023-11-23T23:04:46.663138Z",
     "start_time": "2023-11-23T23:03:58.873435Z"
    }
   },
   "id": "31e8a096e6221afb"
  },
  {
   "cell_type": "code",
   "execution_count": null,
   "outputs": [],
   "source": [],
   "metadata": {
    "collapsed": false,
    "ExecuteTime": {
     "start_time": "2023-11-23T23:04:46.661226Z"
    }
   },
   "id": "e737666abe6a4b9e"
  }
 ],
 "metadata": {
  "kernelspec": {
   "display_name": "Python 3",
   "language": "python",
   "name": "python3"
  },
  "language_info": {
   "codemirror_mode": {
    "name": "ipython",
    "version": 2
   },
   "file_extension": ".py",
   "mimetype": "text/x-python",
   "name": "python",
   "nbconvert_exporter": "python",
   "pygments_lexer": "ipython2",
   "version": "2.7.6"
  }
 },
 "nbformat": 4,
 "nbformat_minor": 5
}
