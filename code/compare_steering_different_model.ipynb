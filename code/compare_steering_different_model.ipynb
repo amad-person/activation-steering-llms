{
 "cells": [
  {
   "cell_type": "code",
   "execution_count": 1,
   "id": "initial_id",
   "metadata": {
    "collapsed": true,
    "ExecuteTime": {
     "end_time": "2023-11-13T03:47:20.796878Z",
     "start_time": "2023-11-13T03:47:18.160982Z"
    }
   },
   "outputs": [],
   "source": [
    "%%capture\n",
    "!pip install torch tqdm matplotlib scikit-learn"
   ]
  },
  {
   "cell_type": "code",
   "execution_count": 2,
   "outputs": [],
   "source": [
    "import os\n",
    "import numpy as np\n",
    "import torch\n",
    "import torch.nn.functional as F\n",
    "from matplotlib import pyplot as plt\n",
    "from sklearn.manifold import TSNE\n",
    "from sklearn.decomposition import PCA\n",
    "from cca_zoo.linear import CCA\n",
    "from cca_zoo.deep import architectures, DCCA\n",
    "from cca_zoo.data.deep import NumpyDataset, check_dataset, get_dataloaders\n",
    "import pytorch_lightning as pl"
   ],
   "metadata": {
    "collapsed": false,
    "ExecuteTime": {
     "end_time": "2023-11-13T03:47:23.477092Z",
     "start_time": "2023-11-13T03:47:20.798490Z"
    }
   },
   "id": "8945c51eb7747e86"
  },
  {
   "cell_type": "markdown",
   "source": [
    "## Plotting Code"
   ],
   "metadata": {
    "collapsed": false
   },
   "id": "d18ee59c478ad7c4"
  },
  {
   "cell_type": "markdown",
   "source": [
    "### Clustering using t-SNE"
   ],
   "metadata": {
    "collapsed": false
   },
   "id": "b57268e1ae676fd1"
  },
  {
   "cell_type": "code",
   "execution_count": 3,
   "outputs": [],
   "source": [
    "def save_activation_projection_tsne(\n",
    "    split1_activations1,\n",
    "    split1_activations2,\n",
    "    split2_activations1,\n",
    "    split2_activations2,\n",
    "    fname,\n",
    "    title,\n",
    "    split1_label1=\"Split 1 Positive Examples\",\n",
    "    split1_label2=\"Split 1 Negative Examples\",\n",
    "    split2_label1=\"Split 2 Positive Examples\",\n",
    "    split2_label2=\"Split 2 Negative Examples\",\n",
    "):\n",
    "    \"\"\"\n",
    "    split1_activations1: n_samples x vector dim tensor\n",
    "    split1_activations2: n_samples x vector dim tensor\n",
    "    split2_activations1: n_samples x vector dim tensor\n",
    "    split2_activations2: n_samples x vector dim tensor\n",
    "\n",
    "    projects to n_samples x 2 dim tensor using t-SNE (over the full dataset of both activations 1 and 2) and saves visualization.\n",
    "    Colors projected activations1 as blue and projected activations2 as red for the first split.\n",
    "    Colors projected activations1 as green and projected activations2 as orange for the second split.\n",
    "    \"\"\"\n",
    "    plt.clf()\n",
    "    activations = torch.cat([split1_activations1, split1_activations2, split2_activations1, split2_activations2], dim=0)\n",
    "    activations_np = activations.cpu().numpy()\n",
    "\n",
    "    # t-SNE transformation\n",
    "    tsne = TSNE(n_components=2)\n",
    "    projected_activations = tsne.fit_transform(activations_np)\n",
    "\n",
    "    # Getting back activations1 and activations2 for both splits\n",
    "    indices = [\n",
    "        (0, split1_activations1.shape[0]),\n",
    "        (split1_activations1.shape[0], split1_activations1.shape[0] + split1_activations2.shape[0]),\n",
    "        (split1_activations1.shape[0] + split1_activations2.shape[0], split1_activations1.shape[0] + split1_activations2.shape[0] + split2_activations1.shape[0]),\n",
    "        (split1_activations1.shape[0] + split1_activations2.shape[0] + split2_activations1.shape[0], None)\n",
    "    ]\n",
    "    split1_activations1_projected = projected_activations[indices[0][0]: indices[0][1]]\n",
    "    split1_activations2_projected = projected_activations[indices[1][0]: indices[1][1]]\n",
    "    split2_activations1_projected = projected_activations[indices[2][0]: indices[2][1]]\n",
    "    split2_activations2_projected = projected_activations[indices[3][0]: indices[3][1]]\n",
    "\n",
    "    # Visualization for split 1\n",
    "    for x, y in split1_activations1_projected:\n",
    "        plt.scatter(x, y, color=\"blue\", marker=\"o\", alpha=0.4)\n",
    "\n",
    "    for x, y in split1_activations2_projected:\n",
    "        plt.scatter(x, y, color=\"red\", marker=\"o\", alpha=0.4)\n",
    "        \n",
    "    # Visualization for split 2\n",
    "    for x, y in split2_activations1_projected:\n",
    "        plt.scatter(x, y, color=\"green\", marker=\"s\", alpha=0.4)\n",
    "\n",
    "    for x, y in split2_activations2_projected:\n",
    "        plt.scatter(x, y, color=\"orange\", marker=\"s\", alpha=0.4)\n",
    "\n",
    "    # Adding the legend\n",
    "    split1_scatter1 = plt.Line2D(\n",
    "        [0],\n",
    "        [0],\n",
    "        marker=\"o\",\n",
    "        color=\"w\",\n",
    "        markerfacecolor=\"blue\",\n",
    "        markersize=10,\n",
    "        label=split1_label1,\n",
    "    )\n",
    "    split1_scatter2 = plt.Line2D(\n",
    "        [0],\n",
    "        [0],\n",
    "        marker=\"o\",\n",
    "        color=\"w\",\n",
    "        markerfacecolor=\"red\",\n",
    "        markersize=10,\n",
    "        label=split1_label2,\n",
    "    )\n",
    "    \n",
    "    split2_scatter1 = plt.Line2D(\n",
    "        [0],\n",
    "        [0],\n",
    "        marker=\"s\",\n",
    "        color=\"w\",\n",
    "        markerfacecolor=\"green\",\n",
    "        markersize=10,\n",
    "        label=split2_label1,\n",
    "    )\n",
    "    split2_scatter2 = plt.Line2D(\n",
    "        [0],\n",
    "        [0],\n",
    "        marker=\"s\",\n",
    "        color=\"w\",\n",
    "        markerfacecolor=\"orange\",\n",
    "        markersize=10,\n",
    "        label=split2_label2,\n",
    "    )\n",
    "\n",
    "    plt.legend(handles=[split1_scatter1, split1_scatter2, split2_scatter1, split2_scatter2])\n",
    "    plt.title(title)\n",
    "    plt.xlabel(\"t-SNE 1\")\n",
    "    plt.ylabel(\"t-SNE 2\")\n",
    "    plt.savefig(fname)"
   ],
   "metadata": {
    "collapsed": false,
    "ExecuteTime": {
     "end_time": "2023-11-13T03:47:23.483206Z",
     "start_time": "2023-11-13T03:47:23.476954Z"
    }
   },
   "id": "41e400aa645ef57a"
  },
  {
   "cell_type": "code",
   "execution_count": 4,
   "outputs": [],
   "source": [
    "def plot_all_activations(dirpath1, dirpath2, layers):\n",
    "    if not os.path.exists(\"../save\"):\n",
    "        os.mkdir(\"../save\")\n",
    "        \n",
    "    for layer in layers:\n",
    "        first_pos = torch.load(f\"{dirpath1}/positive_layer_{layer}.pt\")\n",
    "        first_neg = torch.load(f\"{dirpath1}/negative_layer_{layer}.pt\")\n",
    "        second_pos = torch.load(f\"{dirpath2}/positive_layer_{layer}.pt\")\n",
    "        second_neg = torch.load(f\"{dirpath2}/negative_layer_{layer}.pt\")\n",
    "        \n",
    "        # reduce dimensionality using PCA\n",
    "        pca_dim = min(first_pos.shape[0] + first_neg.shape[0],\n",
    "                      second_pos.shape[0] + second_neg.shape[0])\n",
    "        \n",
    "        first_pca = PCA(n_components=pca_dim)\n",
    "        first_pca.fit(torch.cat([first_pos, first_neg], dim=0))\n",
    "        first_pos = torch.tensor(first_pca.transform(first_pos))\n",
    "        first_neg = torch.tensor(first_pca.transform(first_neg))\n",
    "        \n",
    "        second_pca = PCA(n_components=pca_dim)\n",
    "        second_pca.fit(torch.cat([second_pos, second_neg], dim=0))\n",
    "        second_pos = torch.tensor(second_pca.transform(second_pos))\n",
    "        second_neg = torch.tensor(second_pca.transform(second_neg))\n",
    "        \n",
    "        save_activation_projection_tsne(\n",
    "            first_pos,\n",
    "            first_neg,\n",
    "            second_pos,\n",
    "            second_neg,\n",
    "            f\"../save/activations_layer_{layer}.png\",\n",
    "            f\"t-SNE projected activations layer {layer}\",\n",
    "            split1_label1=\"Split 1 Positive Examples\",\n",
    "            split1_label2=\"Split 1 Negative Examples\",\n",
    "            split2_label1=\"Split 2 Positive Examples\",\n",
    "            split2_label2=\"Split 2 Negative Examples\"\n",
    "        )"
   ],
   "metadata": {
    "collapsed": false,
    "ExecuteTime": {
     "end_time": "2023-11-13T03:47:23.486924Z",
     "start_time": "2023-11-13T03:47:23.485227Z"
    }
   },
   "id": "d4bcdc371d245397"
  },
  {
   "cell_type": "markdown",
   "source": [
    "### Cosine Similarity"
   ],
   "metadata": {
    "collapsed": false
   },
   "id": "a9ea126e842acca"
  },
  {
   "cell_type": "code",
   "execution_count": 5,
   "outputs": [],
   "source": [
    "def plot_all_cosine_similarity(dirpath1, dirpath2, layers):\n",
    "    # Stacking all steering vectors\n",
    "    split1_vec_list, split2_vec_list = [], []\n",
    "    for layer in layers:\n",
    "        split1_vec = torch.load(f\"{dirpath1}/vec_layer_{layer}.pt\")\n",
    "        split1_vec_list.append(split1_vec)    \n",
    "        split2_vec = torch.load(f\"{dirpath2}/vec_layer_{layer}.pt\")\n",
    "        split2_vec_list.append(split2_vec)\n",
    "        \n",
    "    # reduce dimensionality\n",
    "    dim = min(len(split1_vec_list), len(split2_vec_list))\n",
    "    split1_pca = PCA(n_components=dim)\n",
    "    split1_vec_list = [torch.tensor(t) for t in split1_pca.fit_transform(split1_vec_list)]\n",
    "    split2_pca = PCA(n_components=dim)\n",
    "    split2_vec_list = [torch.tensor(t) for t in split2_pca.fit_transform(split2_vec_list)]\n",
    "        \n",
    "    # Computing cosine similarity for each pair\n",
    "    all_split1_vec = torch.stack(split1_vec_list).unsqueeze(1)\n",
    "    all_split2_vec = torch.stack(split2_vec_list).unsqueeze(1)\n",
    "    cosine_sim = F.cosine_similarity(all_split1_vec, all_split2_vec, dim=2).tolist()\n",
    "    \n",
    "    # Visualization \n",
    "    plt.plot(layers, cosine_sim, marker='o')\n",
    "    \n",
    "    plt.title(f\"Cosine Similarity of Steering Vectors vs Layer Number\\nSplit 1: {dirpath1}\\nSplit 2: {dirpath2}\")\n",
    "    plt.xlabel(\"Layer Number\")\n",
    "    plt.ylabel(\"Cosine Similarity\")\n",
    "    plt.ylim([-1.05, 1.05])\n",
    "    plt.tight_layout()\n",
    "    plt.savefig(\"../save/cosine_similarity_vs_layer.png\")"
   ],
   "metadata": {
    "collapsed": false,
    "ExecuteTime": {
     "end_time": "2023-11-13T03:47:23.491641Z",
     "start_time": "2023-11-13T03:47:23.490468Z"
    }
   },
   "id": "958ae40a7bd0624c"
  },
  {
   "cell_type": "markdown",
   "source": [
    "### CCA "
   ],
   "metadata": {
    "collapsed": false
   },
   "id": "8d9c7c7016a6b3cc"
  },
  {
   "cell_type": "code",
   "execution_count": 6,
   "outputs": [],
   "source": [
    "def plot_all_cca_values(dirpath1, dirpath2, layers):\n",
    "    # Learning common subspace for activation vectors using CCA\n",
    "    layer_cca_list = []\n",
    "    for layer in layers:\n",
    "        print(\"CCA for layer:\", layer)\n",
    "        first_activations = torch.cat([torch.load(f\"{dirpath1}/positive_layer_{layer}.pt\"),\n",
    "                                       torch.load(f\"{dirpath1}/negative_layer_{layer}.pt\")])\n",
    "        second_activations = torch.cat([torch.load(f\"{dirpath2}/positive_layer_{layer}.pt\"),\n",
    "                                        torch.load(f\"{dirpath2}/negative_layer_{layer}.pt\")])\n",
    "        dim = min(first_activations.shape[1], second_activations.shape[1], 100)\n",
    "        cca = CCA(dim)\n",
    "        cca.fit([first_activations.numpy(), second_activations.numpy()])\n",
    "        layer_cca_list.append(cca)\n",
    "        \n",
    "    # Transforming steering vectors into learnt subspace\n",
    "    split1_vec_list, split2_vec_list = [], []\n",
    "    for layer in layers:\n",
    "        split1_vec = torch.load(f\"{dirpath1}/vec_layer_{layer}.pt\")\n",
    "        split2_vec = torch.load(f\"{dirpath2}/vec_layer_{layer}.pt\")\n",
    "        \n",
    "        cca = layer_cca_list[layer]\n",
    "        cca_split1_vec, cca_split2_vec = cca.transform([split1_vec, split2_vec])\n",
    "        split1_vec_list.append(cca_split1_vec)\n",
    "        split2_vec_list.append(cca_split2_vec)\n",
    "        \n",
    "    # Computing cosine similarity for each pair\n",
    "    all_split1_vec = torch.stack(split1_vec_list).unsqueeze(1)\n",
    "    all_split2_vec = torch.stack(split2_vec_list).unsqueeze(1)\n",
    "    cosine_sim = F.cosine_similarity(all_split1_vec, all_split2_vec, dim=2).tolist()\n",
    "    \n",
    "    # Visualization \n",
    "    plt.plot(layers, cosine_sim, marker='o')\n",
    "    \n",
    "    plt.title(f\"Cosine Similarity of CCA Steering Vectors vs Layer Number\\nSplit 1: {dirpath1}\\nSplit 2: {dirpath2}\")\n",
    "    plt.xlabel(\"Layer Number\")\n",
    "    plt.ylabel(\"Cosine Similarity\")\n",
    "    plt.ylim([-1.05, 1.05])\n",
    "    plt.tight_layout()\n",
    "    plt.savefig(\"../save/cca_cosine_similarity_vs_layer.png\")"
   ],
   "metadata": {
    "collapsed": false,
    "ExecuteTime": {
     "end_time": "2023-11-13T03:47:23.496781Z",
     "start_time": "2023-11-13T03:47:23.494298Z"
    }
   },
   "id": "d88d9f183ad96938"
  },
  {
   "cell_type": "markdown",
   "source": [
    "### DCCA"
   ],
   "metadata": {
    "collapsed": false
   },
   "id": "f12128493e941d61"
  },
  {
   "cell_type": "code",
   "execution_count": 7,
   "outputs": [],
   "source": [
    "def plot_all_dcca_values(dirpath1, dirpath2, layers):\n",
    "    # Learning common subspace for activation vectors using DCCA\n",
    "    layer_dcca_list = []\n",
    "    for layer in layers:\n",
    "        print(\"DCCA for layer:\", layer)\n",
    "        first_activations = torch.cat([torch.load(f\"{dirpath1}/positive_layer_{layer}.pt\"),\n",
    "                                       torch.load(f\"{dirpath1}/negative_layer_{layer}.pt\")])\n",
    "        second_activations = torch.cat([torch.load(f\"{dirpath2}/positive_layer_{layer}.pt\"),\n",
    "                                        torch.load(f\"{dirpath2}/negative_layer_{layer}.pt\")])\n",
    "        \n",
    "        assert np.isnan(first_activations).any() == False\n",
    "        assert np.isnan(second_activations).any() == False\n",
    "        \n",
    "        # Define DCCA model\n",
    "        dim = min(first_activations.shape[1], second_activations.shape[1], 25)\n",
    "        first_encoder = architectures.Encoder(latent_dimensions=dim, feature_size=first_activations.shape[1])\n",
    "        second_encoder = architectures.Encoder(latent_dimensions=dim, feature_size=second_activations.shape[1])\n",
    "        dcca_model = DCCA(latent_dimensions=dim, encoders=[first_encoder, second_encoder])\n",
    "        \n",
    "        # Train DCCA model\n",
    "        activations_dataset = NumpyDataset([first_activations.numpy(), second_activations.numpy()])\n",
    "        check_dataset(activations_dataset)\n",
    "        train_loader = get_dataloaders(activations_dataset, batch_size=128)\n",
    "        epochs = 10\n",
    "        trainer = pl.Trainer(\n",
    "            accelerator=\"cpu\",\n",
    "            max_epochs=epochs,\n",
    "            enable_checkpointing=False,\n",
    "            enable_model_summary=False,\n",
    "            enable_progress_bar=True\n",
    "        )\n",
    "        trainer.fit(dcca_model, train_loader)\n",
    "        layer_dcca_list.append(dcca_model)\n",
    "        \n",
    "    # Transforming steering vectors into learnt subspace\n",
    "    split1_vec_list, split2_vec_list = [], []\n",
    "    for layer in layers:\n",
    "        split1_vec = torch.load(f\"{dirpath1}/vec_layer_{layer}.pt\")\n",
    "        split2_vec = torch.load(f\"{dirpath2}/vec_layer_{layer}.pt\")\n",
    "        \n",
    "        dcca_model = layer_dcca_list[layer]\n",
    "        dcca_split1_vec, dcca_split2_vec = dcca_model([split1_vec, split2_vec])\n",
    "        split1_vec_list.append(dcca_split1_vec)\n",
    "        split2_vec_list.append(dcca_split2_vec)\n",
    "        \n",
    "    # Computing cosine similarity for each pair\n",
    "    all_split1_vec = torch.stack(split1_vec_list).unsqueeze(1)\n",
    "    all_split2_vec = torch.stack(split2_vec_list).unsqueeze(1)\n",
    "    cosine_sim = F.cosine_similarity(all_split1_vec, all_split2_vec, dim=2).tolist()\n",
    "    \n",
    "    # Visualization \n",
    "    plt.plot(layers, cosine_sim, marker='o')\n",
    "    \n",
    "    plt.title(f\"Cosine Similarity of DCCA Steering Vectors vs Layer Number\\nSplit 1: {dirpath1}\\nSplit 2: {dirpath2}\")\n",
    "    plt.xlabel(\"Layer Number\")\n",
    "    plt.ylabel(\"Cosine Similarity\")\n",
    "    plt.ylim([-1.05, 1.05])\n",
    "    plt.tight_layout()\n",
    "    plt.savefig(\"../save/dcca_cosine_similarity_vs_layer.png\")"
   ],
   "metadata": {
    "collapsed": false,
    "ExecuteTime": {
     "end_time": "2023-11-13T03:47:23.505604Z",
     "start_time": "2023-11-13T03:47:23.498426Z"
    }
   },
   "id": "c7c1542fbe6932da"
  },
  {
   "cell_type": "code",
   "execution_count": 8,
   "outputs": [],
   "source": [
    "first_dirpath = \"../save/llama_7b_refusal_data_2splits_0_exp_data\"\n",
    "second_dirpath = \"../save/llama_13b_refusal_data_2splits_0_exp_data\"\n",
    "start_layer = 0\n",
    "end_layer = 31\n",
    "layer_numbers = list(range(start_layer, end_layer + 1))"
   ],
   "metadata": {
    "collapsed": false,
    "ExecuteTime": {
     "end_time": "2023-11-13T03:47:23.505770Z",
     "start_time": "2023-11-13T03:47:23.502286Z"
    }
   },
   "id": "916378f62fa443d4"
  },
  {
   "cell_type": "code",
   "execution_count": 9,
   "outputs": [],
   "source": [
    "# plot_all_activations(first_dirpath, second_dirpath, layer_numbers)"
   ],
   "metadata": {
    "collapsed": false,
    "ExecuteTime": {
     "end_time": "2023-11-13T03:47:23.505813Z",
     "start_time": "2023-11-13T03:47:23.504274Z"
    }
   },
   "id": "9ecad2f2aed9c5de"
  },
  {
   "cell_type": "code",
   "execution_count": 10,
   "outputs": [
    {
     "data": {
      "text/plain": "<Figure size 640x480 with 1 Axes>",
      "image/png": "[encoded data removed]"
     },
     "metadata": {},
     "output_type": "display_data"
    }
   ],
   "source": [
    "plot_all_cosine_similarity(first_dirpath, second_dirpath, layer_numbers)"
   ],
   "metadata": {
    "collapsed": false,
    "ExecuteTime": {
     "end_time": "2023-11-13T03:47:23.904259Z",
     "start_time": "2023-11-13T03:47:23.506255Z"
    }
   },
   "id": "fd2ecae2e9ad3ed"
  },
  {
   "cell_type": "code",
   "execution_count": 11,
   "outputs": [
    {
     "name": "stdout",
     "output_type": "stream",
     "text": [
      "CCA for layer: 0\n",
      "CCA for layer: 1\n",
      "CCA for layer: 2\n",
      "CCA for layer: 3\n",
      "CCA for layer: 4\n",
      "CCA for layer: 5\n",
      "CCA for layer: 6\n",
      "CCA for layer: 7\n",
      "CCA for layer: 8\n",
      "CCA for layer: 9\n",
      "CCA for layer: 10\n",
      "CCA for layer: 11\n",
      "CCA for layer: 12\n",
      "CCA for layer: 13\n",
      "CCA for layer: 14\n",
      "CCA for layer: 15\n",
      "CCA for layer: 16\n",
      "CCA for layer: 17\n",
      "CCA for layer: 18\n",
      "CCA for layer: 19\n",
      "CCA for layer: 20\n",
      "CCA for layer: 21\n",
      "CCA for layer: 22\n",
      "CCA for layer: 23\n",
      "CCA for layer: 24\n",
      "CCA for layer: 25\n",
      "CCA for layer: 26\n",
      "CCA for layer: 27\n",
      "CCA for layer: 28\n",
      "CCA for layer: 29\n",
      "CCA for layer: 30\n",
      "CCA for layer: 31\n"
     ]
    },
    {
     "data": {
      "text/plain": "<Figure size 640x480 with 1 Axes>",
      "image/png": "[encoded data removed]"
     },
     "metadata": {},
     "output_type": "display_data"
    }
   ],
   "source": [
    "plot_all_cca_values(first_dirpath, second_dirpath, layer_numbers)"
   ],
   "metadata": {
    "collapsed": false,
    "ExecuteTime": {
     "end_time": "2023-11-13T03:49:28.979596Z",
     "start_time": "2023-11-13T03:47:23.902883Z"
    }
   },
   "id": "24b7f890cc439fde"
  },
  {
   "cell_type": "code",
   "execution_count": 12,
   "outputs": [
    {
     "name": "stderr",
     "output_type": "stream",
     "text": [
      "GPU available: True (mps), used: False\n",
      "TPU available: False, using: 0 TPU cores\n",
      "IPU available: False, using: 0 IPUs\n",
      "HPU available: False, using: 0 HPUs\n"
     ]
    },
    {
     "name": "stdout",
     "output_type": "stream",
     "text": [
      "DCCA for layer: 0\n"
     ]
    },
    {
     "name": "stderr",
     "output_type": "stream",
     "text": [
      "/opt/miniconda3/envs/sparenv/lib/python3.11/site-packages/pytorch_lightning/trainer/setup.py:187: GPU available but not used. You can set it by doing `Trainer(accelerator='gpu')`.\n",
      "/opt/miniconda3/envs/sparenv/lib/python3.11/site-packages/pytorch_lightning/trainer/connectors/logger_connector/logger_connector.py:67: Starting from v1.9.0, `tensorboardX` has been removed as a dependency of the `pytorch_lightning` package, due to potential conflicts with other packages in the ML ecosystem. For this reason, `logger=True` will use `CSVLogger` as the default logger, unless the `tensorboard` or `tensorboardX` packages are found. Please `pip install lightning[extra]` or one of them to enable TensorBoard support by default\n",
      "/opt/miniconda3/envs/sparenv/lib/python3.11/site-packages/pytorch_lightning/trainer/configuration_validator.py:74: You defined a `validation_step` but have no `val_dataloader`. Skipping val loop.\n",
      "/opt/miniconda3/envs/sparenv/lib/python3.11/site-packages/pytorch_lightning/trainer/connectors/data_connector.py:441: The 'train_dataloader' does not have many workers which may be a bottleneck. Consider increasing the value of the `num_workers` argument` to `num_workers=7` in the `DataLoader` to improve performance.\n",
      "/opt/miniconda3/envs/sparenv/lib/python3.11/site-packages/pytorch_lightning/loops/fit_loop.py:293: The number of training batches (7) is smaller than the logging interval Trainer(log_every_n_steps=50). Set a lower value for log_every_n_steps if you want to see logs for the training epoch.\n"
     ]
    },
    {
     "data": {
      "text/plain": "Training: |          | 0/? [00:00<?, ?it/s]",
      "application/vnd.jupyter.widget-view+json": {
       "version_major": 2,
       "version_minor": 0,
       "model_id": "c3d5fc572b494eec9b552eaf4af3332a"
      }
     },
     "metadata": {},
     "output_type": "display_data"
    },
    {
     "name": "stderr",
     "output_type": "stream",
     "text": [
      "`Trainer.fit` stopped: `max_epochs=10` reached.\n",
      "GPU available: True (mps), used: False\n",
      "TPU available: False, using: 0 TPU cores\n",
      "IPU available: False, using: 0 IPUs\n",
      "HPU available: False, using: 0 HPUs\n"
     ]
    },
    {
     "name": "stdout",
     "output_type": "stream",
     "text": [
      "DCCA for layer: 1\n"
     ]
    },
    {
     "name": "stderr",
     "output_type": "stream",
     "text": [
      "/opt/miniconda3/envs/sparenv/lib/python3.11/site-packages/pytorch_lightning/trainer/setup.py:187: GPU available but not used. You can set it by doing `Trainer(accelerator='gpu')`.\n"
     ]
    },
    {
     "data": {
      "text/plain": "Training: |          | 0/? [00:00<?, ?it/s]",
      "application/vnd.jupyter.widget-view+json": {
       "version_major": 2,
       "version_minor": 0,
       "model_id": "f446aec1cd0d47d0bacee58271b2c58b"
      }
     },
     "metadata": {},
     "output_type": "display_data"
    },
    {
     "name": "stderr",
     "output_type": "stream",
     "text": [
      "`Trainer.fit` stopped: `max_epochs=10` reached.\n",
      "GPU available: True (mps), used: False\n",
      "TPU available: False, using: 0 TPU cores\n",
      "IPU available: False, using: 0 IPUs\n",
      "HPU available: False, using: 0 HPUs\n"
     ]
    },
    {
     "name": "stdout",
     "output_type": "stream",
     "text": [
      "DCCA for layer: 2\n"
     ]
    },
    {
     "data": {
      "text/plain": "Training: |          | 0/? [00:00<?, ?it/s]",
      "application/vnd.jupyter.widget-view+json": {
       "version_major": 2,
       "version_minor": 0,
       "model_id": "61d94d93f12b43379dd3df5398b2856d"
      }
     },
     "metadata": {},
     "output_type": "display_data"
    },
    {
     "name": "stderr",
     "output_type": "stream",
     "text": [
      "`Trainer.fit` stopped: `max_epochs=10` reached.\n",
      "GPU available: True (mps), used: False\n",
      "TPU available: False, using: 0 TPU cores\n",
      "IPU available: False, using: 0 IPUs\n",
      "HPU available: False, using: 0 HPUs\n"
     ]
    },
    {
     "name": "stdout",
     "output_type": "stream",
     "text": [
      "DCCA for layer: 3\n"
     ]
    },
    {
     "data": {
      "text/plain": "Training: |          | 0/? [00:00<?, ?it/s]",
      "application/vnd.jupyter.widget-view+json": {
       "version_major": 2,
       "version_minor": 0,
       "model_id": "3c0a477bcae0498a97917a404844ae13"
      }
     },
     "metadata": {},
     "output_type": "display_data"
    },
    {
     "name": "stderr",
     "output_type": "stream",
     "text": [
      "`Trainer.fit` stopped: `max_epochs=10` reached.\n",
      "GPU available: True (mps), used: False\n",
      "TPU available: False, using: 0 TPU cores\n",
      "IPU available: False, using: 0 IPUs\n",
      "HPU available: False, using: 0 HPUs\n"
     ]
    },
    {
     "name": "stdout",
     "output_type": "stream",
     "text": [
      "DCCA for layer: 4\n"
     ]
    },
    {
     "data": {
      "text/plain": "Training: |          | 0/? [00:00<?, ?it/s]",
      "application/vnd.jupyter.widget-view+json": {
       "version_major": 2,
       "version_minor": 0,
       "model_id": "78cf3f5e29af457bbe0f6fd8461475b7"
      }
     },
     "metadata": {},
     "output_type": "display_data"
    },
    {
     "name": "stderr",
     "output_type": "stream",
     "text": [
      "`Trainer.fit` stopped: `max_epochs=10` reached.\n",
      "GPU available: True (mps), used: False\n",
      "TPU available: False, using: 0 TPU cores\n",
      "IPU available: False, using: 0 IPUs\n",
      "HPU available: False, using: 0 HPUs\n"
     ]
    },
    {
     "name": "stdout",
     "output_type": "stream",
     "text": [
      "DCCA for layer: 5\n"
     ]
    },
    {
     "data": {
      "text/plain": "Training: |          | 0/? [00:00<?, ?it/s]",
      "application/vnd.jupyter.widget-view+json": {
       "version_major": 2,
       "version_minor": 0,
       "model_id": "14147a88f66742b1bb349691e4824833"
      }
     },
     "metadata": {},
     "output_type": "display_data"
    },
    {
     "name": "stderr",
     "output_type": "stream",
     "text": [
      "`Trainer.fit` stopped: `max_epochs=10` reached.\n",
      "GPU available: True (mps), used: False\n",
      "TPU available: False, using: 0 TPU cores\n",
      "IPU available: False, using: 0 IPUs\n",
      "HPU available: False, using: 0 HPUs\n"
     ]
    },
    {
     "name": "stdout",
     "output_type": "stream",
     "text": [
      "DCCA for layer: 6\n"
     ]
    },
    {
     "data": {
      "text/plain": "Training: |          | 0/? [00:00<?, ?it/s]",
      "application/vnd.jupyter.widget-view+json": {
       "version_major": 2,
       "version_minor": 0,
       "model_id": "05da5a9bfa924d71b0a737a13d76e7a3"
      }
     },
     "metadata": {},
     "output_type": "display_data"
    },
    {
     "name": "stderr",
     "output_type": "stream",
     "text": [
      "`Trainer.fit` stopped: `max_epochs=10` reached.\n",
      "GPU available: True (mps), used: False\n",
      "TPU available: False, using: 0 TPU cores\n",
      "IPU available: False, using: 0 IPUs\n",
      "HPU available: False, using: 0 HPUs\n"
     ]
    },
    {
     "name": "stdout",
     "output_type": "stream",
     "text": [
      "DCCA for layer: 7\n"
     ]
    },
    {
     "data": {
      "text/plain": "Training: |          | 0/? [00:00<?, ?it/s]",
      "application/vnd.jupyter.widget-view+json": {
       "version_major": 2,
       "version_minor": 0,
       "model_id": "9c63f6760c2146fab738c4c9d0b12aaf"
      }
     },
     "metadata": {},
     "output_type": "display_data"
    },
    {
     "name": "stderr",
     "output_type": "stream",
     "text": [
      "`Trainer.fit` stopped: `max_epochs=10` reached.\n",
      "GPU available: True (mps), used: False\n",
      "TPU available: False, using: 0 TPU cores\n",
      "IPU available: False, using: 0 IPUs\n",
      "HPU available: False, using: 0 HPUs\n"
     ]
    },
    {
     "name": "stdout",
     "output_type": "stream",
     "text": [
      "DCCA for layer: 8\n"
     ]
    },
    {
     "data": {
      "text/plain": "Training: |          | 0/? [00:00<?, ?it/s]",
      "application/vnd.jupyter.widget-view+json": {
       "version_major": 2,
       "version_minor": 0,
       "model_id": "56fba1dc15b84b3e9754d28c0a7a4a1a"
      }
     },
     "metadata": {},
     "output_type": "display_data"
    },
    {
     "name": "stderr",
     "output_type": "stream",
     "text": [
      "`Trainer.fit` stopped: `max_epochs=10` reached.\n",
      "GPU available: True (mps), used: False\n",
      "TPU available: False, using: 0 TPU cores\n",
      "IPU available: False, using: 0 IPUs\n",
      "HPU available: False, using: 0 HPUs\n"
     ]
    },
    {
     "name": "stdout",
     "output_type": "stream",
     "text": [
      "DCCA for layer: 9\n"
     ]
    },
    {
     "data": {
      "text/plain": "Training: |          | 0/? [00:00<?, ?it/s]",
      "application/vnd.jupyter.widget-view+json": {
       "version_major": 2,
       "version_minor": 0,
       "model_id": "b35af5906aad41ce8ab6509100da0d64"
      }
     },
     "metadata": {},
     "output_type": "display_data"
    },
    {
     "name": "stderr",
     "output_type": "stream",
     "text": [
      "`Trainer.fit` stopped: `max_epochs=10` reached.\n",
      "GPU available: True (mps), used: False\n",
      "TPU available: False, using: 0 TPU cores\n",
      "IPU available: False, using: 0 IPUs\n",
      "HPU available: False, using: 0 HPUs\n"
     ]
    },
    {
     "name": "stdout",
     "output_type": "stream",
     "text": [
      "DCCA for layer: 10\n"
     ]
    },
    {
     "data": {
      "text/plain": "Training: |          | 0/? [00:00<?, ?it/s]",
      "application/vnd.jupyter.widget-view+json": {
       "version_major": 2,
       "version_minor": 0,
       "model_id": "6281788ef9df482cbac925bb9595d459"
      }
     },
     "metadata": {},
     "output_type": "display_data"
    },
    {
     "name": "stderr",
     "output_type": "stream",
     "text": [
      "`Trainer.fit` stopped: `max_epochs=10` reached.\n",
      "GPU available: True (mps), used: False\n",
      "TPU available: False, using: 0 TPU cores\n",
      "IPU available: False, using: 0 IPUs\n",
      "HPU available: False, using: 0 HPUs\n"
     ]
    },
    {
     "name": "stdout",
     "output_type": "stream",
     "text": [
      "DCCA for layer: 11\n"
     ]
    },
    {
     "data": {
      "text/plain": "Training: |          | 0/? [00:00<?, ?it/s]",
      "application/vnd.jupyter.widget-view+json": {
       "version_major": 2,
       "version_minor": 0,
       "model_id": "58537e3c48b542dfa4f8e63c38d0ebbb"
      }
     },
     "metadata": {},
     "output_type": "display_data"
    },
    {
     "name": "stderr",
     "output_type": "stream",
     "text": [
      "`Trainer.fit` stopped: `max_epochs=10` reached.\n",
      "GPU available: True (mps), used: False\n",
      "TPU available: False, using: 0 TPU cores\n",
      "IPU available: False, using: 0 IPUs\n",
      "HPU available: False, using: 0 HPUs\n"
     ]
    },
    {
     "name": "stdout",
     "output_type": "stream",
     "text": [
      "DCCA for layer: 12\n"
     ]
    },
    {
     "data": {
      "text/plain": "Training: |          | 0/? [00:00<?, ?it/s]",
      "application/vnd.jupyter.widget-view+json": {
       "version_major": 2,
       "version_minor": 0,
       "model_id": "30b8718598dd4a1b832f2893f3ff3377"
      }
     },
     "metadata": {},
     "output_type": "display_data"
    },
    {
     "name": "stderr",
     "output_type": "stream",
     "text": [
      "`Trainer.fit` stopped: `max_epochs=10` reached.\n",
      "GPU available: True (mps), used: False\n",
      "TPU available: False, using: 0 TPU cores\n",
      "IPU available: False, using: 0 IPUs\n",
      "HPU available: False, using: 0 HPUs\n"
     ]
    },
    {
     "name": "stdout",
     "output_type": "stream",
     "text": [
      "DCCA for layer: 13\n"
     ]
    },
    {
     "data": {
      "text/plain": "Training: |          | 0/? [00:00<?, ?it/s]",
      "application/vnd.jupyter.widget-view+json": {
       "version_major": 2,
       "version_minor": 0,
       "model_id": "a97434f17f254c319480eff04ad65840"
      }
     },
     "metadata": {},
     "output_type": "display_data"
    },
    {
     "name": "stderr",
     "output_type": "stream",
     "text": [
      "`Trainer.fit` stopped: `max_epochs=10` reached.\n",
      "GPU available: True (mps), used: False\n",
      "TPU available: False, using: 0 TPU cores\n",
      "IPU available: False, using: 0 IPUs\n",
      "HPU available: False, using: 0 HPUs\n"
     ]
    },
    {
     "name": "stdout",
     "output_type": "stream",
     "text": [
      "DCCA for layer: 14\n"
     ]
    },
    {
     "data": {
      "text/plain": "Training: |          | 0/? [00:00<?, ?it/s]",
      "application/vnd.jupyter.widget-view+json": {
       "version_major": 2,
       "version_minor": 0,
       "model_id": "17037a9e0faa49eb8c45d4c867814586"
      }
     },
     "metadata": {},
     "output_type": "display_data"
    },
    {
     "name": "stderr",
     "output_type": "stream",
     "text": [
      "`Trainer.fit` stopped: `max_epochs=10` reached.\n",
      "GPU available: True (mps), used: False\n",
      "TPU available: False, using: 0 TPU cores\n",
      "IPU available: False, using: 0 IPUs\n",
      "HPU available: False, using: 0 HPUs\n"
     ]
    },
    {
     "name": "stdout",
     "output_type": "stream",
     "text": [
      "DCCA for layer: 15\n"
     ]
    },
    {
     "data": {
      "text/plain": "Training: |          | 0/? [00:00<?, ?it/s]",
      "application/vnd.jupyter.widget-view+json": {
       "version_major": 2,
       "version_minor": 0,
       "model_id": "d9cf2ebb36a34bea9a9a22f0794e2630"
      }
     },
     "metadata": {},
     "output_type": "display_data"
    },
    {
     "name": "stderr",
     "output_type": "stream",
     "text": [
      "`Trainer.fit` stopped: `max_epochs=10` reached.\n",
      "GPU available: True (mps), used: False\n",
      "TPU available: False, using: 0 TPU cores\n",
      "IPU available: False, using: 0 IPUs\n",
      "HPU available: False, using: 0 HPUs\n"
     ]
    },
    {
     "name": "stdout",
     "output_type": "stream",
     "text": [
      "DCCA for layer: 16\n"
     ]
    },
    {
     "data": {
      "text/plain": "Training: |          | 0/? [00:00<?, ?it/s]",
      "application/vnd.jupyter.widget-view+json": {
       "version_major": 2,
       "version_minor": 0,
       "model_id": "7ae3a0ead6a44a9f87254f4dfdf0c3c6"
      }
     },
     "metadata": {},
     "output_type": "display_data"
    },
    {
     "name": "stderr",
     "output_type": "stream",
     "text": [
      "`Trainer.fit` stopped: `max_epochs=10` reached.\n",
      "GPU available: True (mps), used: False\n",
      "TPU available: False, using: 0 TPU cores\n",
      "IPU available: False, using: 0 IPUs\n",
      "HPU available: False, using: 0 HPUs\n"
     ]
    },
    {
     "name": "stdout",
     "output_type": "stream",
     "text": [
      "DCCA for layer: 17\n"
     ]
    },
    {
     "data": {
      "text/plain": "Training: |          | 0/? [00:00<?, ?it/s]",
      "application/vnd.jupyter.widget-view+json": {
       "version_major": 2,
       "version_minor": 0,
       "model_id": "116f24741a2a4ff5930d06ac59ff856a"
      }
     },
     "metadata": {},
     "output_type": "display_data"
    },
    {
     "name": "stderr",
     "output_type": "stream",
     "text": [
      "`Trainer.fit` stopped: `max_epochs=10` reached.\n",
      "GPU available: True (mps), used: False\n",
      "TPU available: False, using: 0 TPU cores\n",
      "IPU available: False, using: 0 IPUs\n",
      "HPU available: False, using: 0 HPUs\n"
     ]
    },
    {
     "name": "stdout",
     "output_type": "stream",
     "text": [
      "DCCA for layer: 18\n"
     ]
    },
    {
     "data": {
      "text/plain": "Training: |          | 0/? [00:00<?, ?it/s]",
      "application/vnd.jupyter.widget-view+json": {
       "version_major": 2,
       "version_minor": 0,
       "model_id": "0ddb341cfae7433da18c4c77eb2d2c2e"
      }
     },
     "metadata": {},
     "output_type": "display_data"
    },
    {
     "name": "stderr",
     "output_type": "stream",
     "text": [
      "`Trainer.fit` stopped: `max_epochs=10` reached.\n",
      "GPU available: True (mps), used: False\n",
      "TPU available: False, using: 0 TPU cores\n",
      "IPU available: False, using: 0 IPUs\n",
      "HPU available: False, using: 0 HPUs\n"
     ]
    },
    {
     "name": "stdout",
     "output_type": "stream",
     "text": [
      "DCCA for layer: 19\n"
     ]
    },
    {
     "data": {
      "text/plain": "Training: |          | 0/? [00:00<?, ?it/s]",
      "application/vnd.jupyter.widget-view+json": {
       "version_major": 2,
       "version_minor": 0,
       "model_id": "d477c662d53d4457bc322f7ad82368f6"
      }
     },
     "metadata": {},
     "output_type": "display_data"
    },
    {
     "name": "stderr",
     "output_type": "stream",
     "text": [
      "`Trainer.fit` stopped: `max_epochs=10` reached.\n",
      "GPU available: True (mps), used: False\n",
      "TPU available: False, using: 0 TPU cores\n",
      "IPU available: False, using: 0 IPUs\n",
      "HPU available: False, using: 0 HPUs\n"
     ]
    },
    {
     "name": "stdout",
     "output_type": "stream",
     "text": [
      "DCCA for layer: 20\n"
     ]
    },
    {
     "data": {
      "text/plain": "Training: |          | 0/? [00:00<?, ?it/s]",
      "application/vnd.jupyter.widget-view+json": {
       "version_major": 2,
       "version_minor": 0,
       "model_id": "b794df744579461d9e5f275eb331274b"
      }
     },
     "metadata": {},
     "output_type": "display_data"
    },
    {
     "name": "stderr",
     "output_type": "stream",
     "text": [
      "`Trainer.fit` stopped: `max_epochs=10` reached.\n",
      "GPU available: True (mps), used: False\n",
      "TPU available: False, using: 0 TPU cores\n",
      "IPU available: False, using: 0 IPUs\n",
      "HPU available: False, using: 0 HPUs\n"
     ]
    },
    {
     "name": "stdout",
     "output_type": "stream",
     "text": [
      "DCCA for layer: 21\n"
     ]
    },
    {
     "data": {
      "text/plain": "Training: |          | 0/? [00:00<?, ?it/s]",
      "application/vnd.jupyter.widget-view+json": {
       "version_major": 2,
       "version_minor": 0,
       "model_id": "8b6f2335465340bea2000cea673c72b4"
      }
     },
     "metadata": {},
     "output_type": "display_data"
    },
    {
     "name": "stderr",
     "output_type": "stream",
     "text": [
      "`Trainer.fit` stopped: `max_epochs=10` reached.\n",
      "GPU available: True (mps), used: False\n",
      "TPU available: False, using: 0 TPU cores\n",
      "IPU available: False, using: 0 IPUs\n",
      "HPU available: False, using: 0 HPUs\n"
     ]
    },
    {
     "name": "stdout",
     "output_type": "stream",
     "text": [
      "DCCA for layer: 22\n"
     ]
    },
    {
     "data": {
      "text/plain": "Training: |          | 0/? [00:00<?, ?it/s]",
      "application/vnd.jupyter.widget-view+json": {
       "version_major": 2,
       "version_minor": 0,
       "model_id": "5cf60cd01956407ca1662e004aae9030"
      }
     },
     "metadata": {},
     "output_type": "display_data"
    },
    {
     "name": "stderr",
     "output_type": "stream",
     "text": [
      "`Trainer.fit` stopped: `max_epochs=10` reached.\n",
      "GPU available: True (mps), used: False\n",
      "TPU available: False, using: 0 TPU cores\n",
      "IPU available: False, using: 0 IPUs\n",
      "HPU available: False, using: 0 HPUs\n"
     ]
    },
    {
     "name": "stdout",
     "output_type": "stream",
     "text": [
      "DCCA for layer: 23\n"
     ]
    },
    {
     "data": {
      "text/plain": "Training: |          | 0/? [00:00<?, ?it/s]",
      "application/vnd.jupyter.widget-view+json": {
       "version_major": 2,
       "version_minor": 0,
       "model_id": "a51e90de91fd4b4984956d49cd8127ed"
      }
     },
     "metadata": {},
     "output_type": "display_data"
    },
    {
     "name": "stderr",
     "output_type": "stream",
     "text": [
      "`Trainer.fit` stopped: `max_epochs=10` reached.\n",
      "GPU available: True (mps), used: False\n",
      "TPU available: False, using: 0 TPU cores\n",
      "IPU available: False, using: 0 IPUs\n",
      "HPU available: False, using: 0 HPUs\n"
     ]
    },
    {
     "name": "stdout",
     "output_type": "stream",
     "text": [
      "DCCA for layer: 24\n"
     ]
    },
    {
     "data": {
      "text/plain": "Training: |          | 0/? [00:00<?, ?it/s]",
      "application/vnd.jupyter.widget-view+json": {
       "version_major": 2,
       "version_minor": 0,
       "model_id": "a4ce42ccd1a94edcb538df2f09ac0434"
      }
     },
     "metadata": {},
     "output_type": "display_data"
    },
    {
     "name": "stderr",
     "output_type": "stream",
     "text": [
      "`Trainer.fit` stopped: `max_epochs=10` reached.\n",
      "GPU available: True (mps), used: False\n",
      "TPU available: False, using: 0 TPU cores\n",
      "IPU available: False, using: 0 IPUs\n",
      "HPU available: False, using: 0 HPUs\n"
     ]
    },
    {
     "name": "stdout",
     "output_type": "stream",
     "text": [
      "DCCA for layer: 25\n"
     ]
    },
    {
     "data": {
      "text/plain": "Training: |          | 0/? [00:00<?, ?it/s]",
      "application/vnd.jupyter.widget-view+json": {
       "version_major": 2,
       "version_minor": 0,
       "model_id": "8646e760a5124ce0aaec1029c94895b5"
      }
     },
     "metadata": {},
     "output_type": "display_data"
    },
    {
     "name": "stderr",
     "output_type": "stream",
     "text": [
      "`Trainer.fit` stopped: `max_epochs=10` reached.\n",
      "GPU available: True (mps), used: False\n",
      "TPU available: False, using: 0 TPU cores\n",
      "IPU available: False, using: 0 IPUs\n",
      "HPU available: False, using: 0 HPUs\n"
     ]
    },
    {
     "name": "stdout",
     "output_type": "stream",
     "text": [
      "DCCA for layer: 26\n"
     ]
    },
    {
     "data": {
      "text/plain": "Training: |          | 0/? [00:00<?, ?it/s]",
      "application/vnd.jupyter.widget-view+json": {
       "version_major": 2,
       "version_minor": 0,
       "model_id": "a201b6a01f70404aacbf4a3a8a2c7ccb"
      }
     },
     "metadata": {},
     "output_type": "display_data"
    },
    {
     "name": "stderr",
     "output_type": "stream",
     "text": [
      "`Trainer.fit` stopped: `max_epochs=10` reached.\n",
      "GPU available: True (mps), used: False\n",
      "TPU available: False, using: 0 TPU cores\n",
      "IPU available: False, using: 0 IPUs\n",
      "HPU available: False, using: 0 HPUs\n"
     ]
    },
    {
     "name": "stdout",
     "output_type": "stream",
     "text": [
      "DCCA for layer: 27\n"
     ]
    },
    {
     "data": {
      "text/plain": "Training: |          | 0/? [00:00<?, ?it/s]",
      "application/vnd.jupyter.widget-view+json": {
       "version_major": 2,
       "version_minor": 0,
       "model_id": "2efef0f565994ed38a1de1f31269aee3"
      }
     },
     "metadata": {},
     "output_type": "display_data"
    },
    {
     "name": "stderr",
     "output_type": "stream",
     "text": [
      "`Trainer.fit` stopped: `max_epochs=10` reached.\n",
      "GPU available: True (mps), used: False\n",
      "TPU available: False, using: 0 TPU cores\n",
      "IPU available: False, using: 0 IPUs\n",
      "HPU available: False, using: 0 HPUs\n"
     ]
    },
    {
     "name": "stdout",
     "output_type": "stream",
     "text": [
      "DCCA for layer: 28\n"
     ]
    },
    {
     "data": {
      "text/plain": "Training: |          | 0/? [00:00<?, ?it/s]",
      "application/vnd.jupyter.widget-view+json": {
       "version_major": 2,
       "version_minor": 0,
       "model_id": "3d6765657b254644aa7d0a071168f408"
      }
     },
     "metadata": {},
     "output_type": "display_data"
    },
    {
     "name": "stderr",
     "output_type": "stream",
     "text": [
      "`Trainer.fit` stopped: `max_epochs=10` reached.\n",
      "GPU available: True (mps), used: False\n",
      "TPU available: False, using: 0 TPU cores\n",
      "IPU available: False, using: 0 IPUs\n",
      "HPU available: False, using: 0 HPUs\n"
     ]
    },
    {
     "name": "stdout",
     "output_type": "stream",
     "text": [
      "DCCA for layer: 29\n"
     ]
    },
    {
     "data": {
      "text/plain": "Training: |          | 0/? [00:00<?, ?it/s]",
      "application/vnd.jupyter.widget-view+json": {
       "version_major": 2,
       "version_minor": 0,
       "model_id": "b5b69945749d48f790acfa536c966d7e"
      }
     },
     "metadata": {},
     "output_type": "display_data"
    },
    {
     "name": "stderr",
     "output_type": "stream",
     "text": [
      "`Trainer.fit` stopped: `max_epochs=10` reached.\n",
      "GPU available: True (mps), used: False\n",
      "TPU available: False, using: 0 TPU cores\n",
      "IPU available: False, using: 0 IPUs\n",
      "HPU available: False, using: 0 HPUs\n"
     ]
    },
    {
     "name": "stdout",
     "output_type": "stream",
     "text": [
      "DCCA for layer: 30\n"
     ]
    },
    {
     "data": {
      "text/plain": "Training: |          | 0/? [00:00<?, ?it/s]",
      "application/vnd.jupyter.widget-view+json": {
       "version_major": 2,
       "version_minor": 0,
       "model_id": "d750a1807b2b4feeb07a534b79cfa31c"
      }
     },
     "metadata": {},
     "output_type": "display_data"
    },
    {
     "name": "stderr",
     "output_type": "stream",
     "text": [
      "`Trainer.fit` stopped: `max_epochs=10` reached.\n",
      "GPU available: True (mps), used: False\n",
      "TPU available: False, using: 0 TPU cores\n",
      "IPU available: False, using: 0 IPUs\n",
      "HPU available: False, using: 0 HPUs\n"
     ]
    },
    {
     "name": "stdout",
     "output_type": "stream",
     "text": [
      "DCCA for layer: 31\n"
     ]
    },
    {
     "data": {
      "text/plain": "Training: |          | 0/? [00:00<?, ?it/s]",
      "application/vnd.jupyter.widget-view+json": {
       "version_major": 2,
       "version_minor": 0,
       "model_id": "c2f9c8924bef45f2b643f8d974824c10"
      }
     },
     "metadata": {},
     "output_type": "display_data"
    },
    {
     "name": "stderr",
     "output_type": "stream",
     "text": [
      "`Trainer.fit` stopped: `max_epochs=10` reached.\n"
     ]
    },
    {
     "data": {
      "text/plain": "<Figure size 640x480 with 1 Axes>",
      "image/png": "[encoded data removed]"
     },
     "metadata": {},
     "output_type": "display_data"
    }
   ],
   "source": [
    "plot_all_dcca_values(first_dirpath, second_dirpath, layer_numbers)"
   ],
   "metadata": {
    "collapsed": false,
    "ExecuteTime": {
     "end_time": "2023-11-13T03:49:49.000338Z",
     "start_time": "2023-11-13T03:49:28.980923Z"
    }
   },
   "id": "31e8a096e6221afb"
  }
 ],
 "metadata": {
  "kernelspec": {
   "display_name": "Python 3",
   "language": "python",
   "name": "python3"
  },
  "language_info": {
   "codemirror_mode": {
    "name": "ipython",
    "version": 2
   },
   "file_extension": ".py",
   "mimetype": "text/x-python",
   "name": "python",
   "nbconvert_exporter": "python",
   "pygments_lexer": "ipython2",
   "version": "2.7.6"
  }
 },
 "nbformat": 4,
 "nbformat_minor": 5
}
